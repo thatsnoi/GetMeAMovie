{
 "cells": [
  {
   "cell_type": "markdown",
   "metadata": {},
   "source": [
    "## To be used from App: Obtain selected rows from the similarity matrix\n",
    "**Note:** Requires the file \"db_credentials.txt\" containing the password of the MongoDB user. See password in the pinned file in the Slack general group."
   ]
  },
  {
   "cell_type": "code",
   "execution_count": 1,
   "metadata": {},
   "outputs": [
    {
     "name": "stdout",
     "output_type": "stream",
     "text": [
      "{'dir_data_raw': '../data/raw', 'dir_data_input': '../data/input', 'db_url': 'cluster0.egjki.mongodb.net', 'db_name': 'gmam', 'db_user': 'getmeamovie_rw'}\n",
      "Connected successfully to MongoDB\n",
      "10326\n"
     ]
    },
    {
     "data": {
      "text/plain": [
       "[{'movieId': 1},\n",
       " {'movieId': 2},\n",
       " {'movieId': 3},\n",
       " {'movieId': 4},\n",
       " {'movieId': 5}]"
      ]
     },
     "execution_count": 1,
     "metadata": {},
     "output_type": "execute_result"
    }
   ],
   "source": [
    "import pandas as pd\n",
    "import json\n",
    "\n",
    "# Read configuration file\n",
    "with open('config_prod.json', 'r') as fp:\n",
    "    config = json.load(fp)\n",
    "print(config)\n",
    "\n",
    "# Connect to MongoDB\n",
    "\n",
    "db_url = config['db_url']\n",
    "db_name = config['db_name']\n",
    "db_user = config['db_user']\n",
    "\n",
    "import pymongo\n",
    "import ssl\n",
    "try:\n",
    "    # Close previous connection\n",
    "    if 'conn' in globals():\n",
    "        conn.close()\n",
    "        print(\"Closing connection\")\n",
    "    \n",
    "    # Read from db_credentials.txt password required to connect to MongoDB.\n",
    "    with open(\"db_credentials.txt\", 'r') as f:\n",
    "        [db_password] = f.read().splitlines()\n",
    "    \n",
    "    # Connect\n",
    "    conn=pymongo.MongoClient(\"mongodb+srv://{}:{}@{}\".format(db_user, db_password, db_url), ssl_cert_reqs=ssl.CERT_NONE)\n",
    "    print (\"Connected successfully to MongoDB\")\n",
    "    \n",
    "except pymongo.errors.ConnectionFailure as e:\n",
    "    print (\"Could not connect to MongoDB: %s\" % e) \n",
    "    \n",
    "# Open database and collection\n",
    "db = conn[db_name]\n",
    "col_similarity = db['similarity']\n",
    "\n",
    "# Read movie ids from DB into a dataframe\n",
    "movie_list = list(col_similarity.find( {}, {'movieId':1, '_id':0} ))\n",
    "print(len(movie_list))\n",
    "movie_list[:5]"
   ]
  },
  {
   "cell_type": "code",
   "execution_count": 6,
   "metadata": {},
   "outputs": [],
   "source": [
    "def get_similarity_row(movieId, db_connection, num_digits=2):\n",
    "    '''Obtain similarities of selected movie (will give error if movieId does not exist)'''\n",
    "    db = db_connection[db_name]\n",
    "    col_similarity = db['similarity']\n",
    "    simil_string = col_similarity.find({'movieId':movieId})[0]['similarities']\n",
    "    simil_row = []\n",
    "    for i in range(len(movie_list)):\n",
    "        x_char = simil_string[i*num_digits : (i+1)*num_digits]\n",
    "        simil_row.append(int(x_char)/10**num_digits)  # Convert to number between 0 and 1\n",
    "    return simil_row\n",
    "\n",
    "# Get the similarities for selected movies\n",
    "simil_1=get_similarity_row(movieId=4963, db_connection=conn, num_digits=2)\n",
    "simil_2=get_similarity_row(movieId=58559, db_connection=conn, num_digits=2)\n"
   ]
  },
  {
   "cell_type": "code",
   "execution_count": 7,
   "metadata": {
    "scrolled": false
   },
   "outputs": [
    {
     "data": {
      "text/html": [
       "<div>\n",
       "<style scoped>\n",
       "    .dataframe tbody tr th:only-of-type {\n",
       "        vertical-align: middle;\n",
       "    }\n",
       "\n",
       "    .dataframe tbody tr th {\n",
       "        vertical-align: top;\n",
       "    }\n",
       "\n",
       "    .dataframe thead th {\n",
       "        text-align: right;\n",
       "    }\n",
       "</style>\n",
       "<table border=\"1\" class=\"dataframe\">\n",
       "  <thead>\n",
       "    <tr style=\"text-align: right;\">\n",
       "      <th></th>\n",
       "      <th>movieId</th>\n",
       "      <th>simil_1</th>\n",
       "      <th>simil_2</th>\n",
       "    </tr>\n",
       "  </thead>\n",
       "  <tbody>\n",
       "    <tr>\n",
       "      <th>0</th>\n",
       "      <td>1</td>\n",
       "      <td>0.05</td>\n",
       "      <td>0.98</td>\n",
       "    </tr>\n",
       "    <tr>\n",
       "      <th>1</th>\n",
       "      <td>2</td>\n",
       "      <td>0.92</td>\n",
       "      <td>0.46</td>\n",
       "    </tr>\n",
       "    <tr>\n",
       "      <th>2</th>\n",
       "      <td>3</td>\n",
       "      <td>0.74</td>\n",
       "      <td>0.59</td>\n",
       "    </tr>\n",
       "    <tr>\n",
       "      <th>3</th>\n",
       "      <td>4</td>\n",
       "      <td>0.92</td>\n",
       "      <td>0.17</td>\n",
       "    </tr>\n",
       "    <tr>\n",
       "      <th>4</th>\n",
       "      <td>5</td>\n",
       "      <td>0.95</td>\n",
       "      <td>0.70</td>\n",
       "    </tr>\n",
       "  </tbody>\n",
       "</table>\n",
       "</div>"
      ],
      "text/plain": [
       "   movieId  simil_1  simil_2\n",
       "0        1     0.05     0.98\n",
       "1        2     0.92     0.46\n",
       "2        3     0.74     0.59\n",
       "3        4     0.92     0.17\n",
       "4        5     0.95     0.70"
      ]
     },
     "execution_count": 7,
     "metadata": {},
     "output_type": "execute_result"
    }
   ],
   "source": [
    "# Match similarities with their movieId\n",
    "df_simil = pd.concat((pd.DataFrame.from_dict(movie_list),\n",
    "                      pd.DataFrame(data={'simil_1':simil_1, 'simil_2':simil_2})\n",
    "                     ), axis=1)\n",
    "df_simil.head()"
   ]
  },
  {
   "cell_type": "code",
   "execution_count": null,
   "metadata": {},
   "outputs": [],
   "source": []
  }
 ],
 "metadata": {
  "kernelspec": {
   "display_name": "Python 3",
   "language": "python",
   "name": "python3"
  },
  "language_info": {
   "codemirror_mode": {
    "name": "ipython",
    "version": 3
   },
   "file_extension": ".py",
   "mimetype": "text/x-python",
   "name": "python",
   "nbconvert_exporter": "python",
   "pygments_lexer": "ipython3",
   "version": "3.8.8"
  }
 },
 "nbformat": 4,
 "nbformat_minor": 1
}
