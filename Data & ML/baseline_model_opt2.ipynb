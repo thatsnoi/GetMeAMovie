{
 "cells": [
  {
   "cell_type": "markdown",
   "id": "250af7da",
   "metadata": {},
   "source": [
    "# General overview on Recommendation systems for movies\n",
    "\n",
    "There are basically three types of recommender systems:\n",
    "\n",
    "* **Demographic Filtering**: offer generalized recommendations to every user, based on movie popularity and/or genre. The System recommends the same movies to users with similar demographic features. Since each user is different , this approach is considered to be too simple. The basic idea behind this system is that movies that are more popular and critically acclaimed will have a higher probability of being liked by the average audience.\n",
    "\n",
    "* **Content Based Filtering**: suggest similar items based on a particular item. This system uses item metadata, such as genre, director, description, actors, etc. for movies, to make these recommendations. The general idea behind these recommender systems is that if a person liked a particular item, he or she will also like an item that is similar to it.\n",
    "\n",
    "* **Collaborative Filtering**: this system matches persons with similar interests and provides recommendations based on this matching. Collaborative filters do not require item metadata like its content-based counterparts."
   ]
  },
  {
   "cell_type": "markdown",
   "id": "c83d8daf",
   "metadata": {},
   "source": [
    "# Proposal\n",
    "\n",
    "A possible way to recommend movies could be a mix of **Content Based Filtering** and **Collaborative Filtering**. \n",
    "\n",
    "To build a simple **hybrid** recommender that brings together techniques from the content based and collaborative filter based engines.\n",
    "\n"
   ]
  },
  {
   "cell_type": "markdown",
   "id": "eca9c5c5",
   "metadata": {},
   "source": [
    "- **Input**: Movies that a particular user likes\n",
    "- **Output**: Similar movies sorted on the basis of expected ratings by that particular user."
   ]
  },
  {
   "cell_type": "markdown",
   "id": "10201916",
   "metadata": {},
   "source": [
    "Below I let some code for general recommendation system based on overall data (Content Based), some personalized recommendation system based on user ratings (Collaborative Filtering) and mix of both a hybrid model.\n",
    "\n",
    "Next steps:\n",
    "- Think about the optimal model (How it should take input data, what it should output, do we need to retrain our model online??"
   ]
  },
  {
   "cell_type": "markdown",
   "id": "3778206d",
   "metadata": {},
   "source": [
    "#### Content Based Filtering\n",
    "*Based only on the movie description* "
   ]
  },
  {
   "cell_type": "code",
   "execution_count": 4,
   "id": "b1fabf5c",
   "metadata": {},
   "outputs": [],
   "source": [
    "import warnings\n",
    "import numpy as np\n",
    "import time\n",
    "import pandas as pd\n",
    "from ast import literal_eval\n",
    "from sklearn.feature_extraction.text import TfidfVectorizer, CountVectorizer\n",
    "from sklearn.metrics.pairwise import linear_kernel, cosine_similarity\n",
    "warnings.filterwarnings('ignore')\n",
    "pd.options.display.max_columns = 500"
   ]
  },
  {
   "cell_type": "code",
   "execution_count": 5,
   "id": "e2c67c1c",
   "metadata": {},
   "outputs": [],
   "source": [
    "# Read meta data about movies\n",
    "md = pd.read_csv('../data/input/movies_metadata.csv')\n",
    "movies = pd.read_csv('../data/input/movies.csv')\n",
    "directors = pd.read_csv('../data/input/directors.csv')\n",
    "ids_to_use = np.loadtxt('movieIds_TO_USE.txt')"
   ]
  },
  {
   "cell_type": "code",
   "execution_count": 6,
   "id": "7eace97c",
   "metadata": {},
   "outputs": [
    {
     "data": {
      "text/html": [
       "<div>\n",
       "<style scoped>\n",
       "    .dataframe tbody tr th:only-of-type {\n",
       "        vertical-align: middle;\n",
       "    }\n",
       "\n",
       "    .dataframe tbody tr th {\n",
       "        vertical-align: top;\n",
       "    }\n",
       "\n",
       "    .dataframe thead th {\n",
       "        text-align: right;\n",
       "    }\n",
       "</style>\n",
       "<table border=\"1\" class=\"dataframe\">\n",
       "  <thead>\n",
       "    <tr style=\"text-align: right;\">\n",
       "      <th></th>\n",
       "      <th>adult</th>\n",
       "      <th>belongs_to_collection</th>\n",
       "      <th>budget</th>\n",
       "      <th>genres</th>\n",
       "      <th>homepage</th>\n",
       "      <th>id</th>\n",
       "      <th>imdb_id</th>\n",
       "      <th>original_language</th>\n",
       "      <th>original_title</th>\n",
       "      <th>overview</th>\n",
       "      <th>popularity</th>\n",
       "      <th>poster_path</th>\n",
       "      <th>production_companies</th>\n",
       "      <th>production_countries</th>\n",
       "      <th>release_date</th>\n",
       "      <th>revenue</th>\n",
       "      <th>runtime</th>\n",
       "      <th>spoken_languages</th>\n",
       "      <th>status</th>\n",
       "      <th>tagline</th>\n",
       "      <th>title</th>\n",
       "      <th>video</th>\n",
       "      <th>vote_average</th>\n",
       "      <th>vote_count</th>\n",
       "    </tr>\n",
       "  </thead>\n",
       "  <tbody>\n",
       "    <tr>\n",
       "      <th>0</th>\n",
       "      <td>False</td>\n",
       "      <td>{'id': 10194, 'name': 'Toy Story Collection', ...</td>\n",
       "      <td>30000000</td>\n",
       "      <td>[{'id': 16, 'name': 'Animation'}, {'id': 35, '...</td>\n",
       "      <td>http://toystory.disney.com/toy-story</td>\n",
       "      <td>862</td>\n",
       "      <td>tt0114709</td>\n",
       "      <td>en</td>\n",
       "      <td>Toy Story</td>\n",
       "      <td>Led by Woody, Andy's toys live happily in his ...</td>\n",
       "      <td>21.946943</td>\n",
       "      <td>/rhIRbceoE9lR4veEXuwCC2wARtG.jpg</td>\n",
       "      <td>[{'name': 'Pixar Animation Studios', 'id': 3}]</td>\n",
       "      <td>[{'iso_3166_1': 'US', 'name': 'United States o...</td>\n",
       "      <td>1995-10-30</td>\n",
       "      <td>373554033.0</td>\n",
       "      <td>81.0</td>\n",
       "      <td>[{'iso_639_1': 'en', 'name': 'English'}]</td>\n",
       "      <td>Released</td>\n",
       "      <td>NaN</td>\n",
       "      <td>Toy Story</td>\n",
       "      <td>False</td>\n",
       "      <td>7.7</td>\n",
       "      <td>5415.0</td>\n",
       "    </tr>\n",
       "    <tr>\n",
       "      <th>1</th>\n",
       "      <td>False</td>\n",
       "      <td>NaN</td>\n",
       "      <td>65000000</td>\n",
       "      <td>[{'id': 12, 'name': 'Adventure'}, {'id': 14, '...</td>\n",
       "      <td>NaN</td>\n",
       "      <td>8844</td>\n",
       "      <td>tt0113497</td>\n",
       "      <td>en</td>\n",
       "      <td>Jumanji</td>\n",
       "      <td>When siblings Judy and Peter discover an encha...</td>\n",
       "      <td>17.015539</td>\n",
       "      <td>/vzmL6fP7aPKNKPRTFnZmiUfciyV.jpg</td>\n",
       "      <td>[{'name': 'TriStar Pictures', 'id': 559}, {'na...</td>\n",
       "      <td>[{'iso_3166_1': 'US', 'name': 'United States o...</td>\n",
       "      <td>1995-12-15</td>\n",
       "      <td>262797249.0</td>\n",
       "      <td>104.0</td>\n",
       "      <td>[{'iso_639_1': 'en', 'name': 'English'}, {'iso...</td>\n",
       "      <td>Released</td>\n",
       "      <td>Roll the dice and unleash the excitement!</td>\n",
       "      <td>Jumanji</td>\n",
       "      <td>False</td>\n",
       "      <td>6.9</td>\n",
       "      <td>2413.0</td>\n",
       "    </tr>\n",
       "    <tr>\n",
       "      <th>2</th>\n",
       "      <td>False</td>\n",
       "      <td>{'id': 119050, 'name': 'Grumpy Old Men Collect...</td>\n",
       "      <td>0</td>\n",
       "      <td>[{'id': 10749, 'name': 'Romance'}, {'id': 35, ...</td>\n",
       "      <td>NaN</td>\n",
       "      <td>15602</td>\n",
       "      <td>tt0113228</td>\n",
       "      <td>en</td>\n",
       "      <td>Grumpier Old Men</td>\n",
       "      <td>A family wedding reignites the ancient feud be...</td>\n",
       "      <td>11.7129</td>\n",
       "      <td>/6ksm1sjKMFLbO7UY2i6G1ju9SML.jpg</td>\n",
       "      <td>[{'name': 'Warner Bros.', 'id': 6194}, {'name'...</td>\n",
       "      <td>[{'iso_3166_1': 'US', 'name': 'United States o...</td>\n",
       "      <td>1995-12-22</td>\n",
       "      <td>0.0</td>\n",
       "      <td>101.0</td>\n",
       "      <td>[{'iso_639_1': 'en', 'name': 'English'}]</td>\n",
       "      <td>Released</td>\n",
       "      <td>Still Yelling. Still Fighting. Still Ready for...</td>\n",
       "      <td>Grumpier Old Men</td>\n",
       "      <td>False</td>\n",
       "      <td>6.5</td>\n",
       "      <td>92.0</td>\n",
       "    </tr>\n",
       "    <tr>\n",
       "      <th>3</th>\n",
       "      <td>False</td>\n",
       "      <td>NaN</td>\n",
       "      <td>16000000</td>\n",
       "      <td>[{'id': 35, 'name': 'Comedy'}, {'id': 18, 'nam...</td>\n",
       "      <td>NaN</td>\n",
       "      <td>31357</td>\n",
       "      <td>tt0114885</td>\n",
       "      <td>en</td>\n",
       "      <td>Waiting to Exhale</td>\n",
       "      <td>Cheated on, mistreated and stepped on, the wom...</td>\n",
       "      <td>3.859495</td>\n",
       "      <td>/16XOMpEaLWkrcPqSQqhTmeJuqQl.jpg</td>\n",
       "      <td>[{'name': 'Twentieth Century Fox Film Corporat...</td>\n",
       "      <td>[{'iso_3166_1': 'US', 'name': 'United States o...</td>\n",
       "      <td>1995-12-22</td>\n",
       "      <td>81452156.0</td>\n",
       "      <td>127.0</td>\n",
       "      <td>[{'iso_639_1': 'en', 'name': 'English'}]</td>\n",
       "      <td>Released</td>\n",
       "      <td>Friends are the people who let you be yourself...</td>\n",
       "      <td>Waiting to Exhale</td>\n",
       "      <td>False</td>\n",
       "      <td>6.1</td>\n",
       "      <td>34.0</td>\n",
       "    </tr>\n",
       "    <tr>\n",
       "      <th>4</th>\n",
       "      <td>False</td>\n",
       "      <td>{'id': 96871, 'name': 'Father of the Bride Col...</td>\n",
       "      <td>0</td>\n",
       "      <td>[{'id': 35, 'name': 'Comedy'}]</td>\n",
       "      <td>NaN</td>\n",
       "      <td>11862</td>\n",
       "      <td>tt0113041</td>\n",
       "      <td>en</td>\n",
       "      <td>Father of the Bride Part II</td>\n",
       "      <td>Just when George Banks has recovered from his ...</td>\n",
       "      <td>8.387519</td>\n",
       "      <td>/e64sOI48hQXyru7naBFyssKFxVd.jpg</td>\n",
       "      <td>[{'name': 'Sandollar Productions', 'id': 5842}...</td>\n",
       "      <td>[{'iso_3166_1': 'US', 'name': 'United States o...</td>\n",
       "      <td>1995-02-10</td>\n",
       "      <td>76578911.0</td>\n",
       "      <td>106.0</td>\n",
       "      <td>[{'iso_639_1': 'en', 'name': 'English'}]</td>\n",
       "      <td>Released</td>\n",
       "      <td>Just When His World Is Back To Normal... He's ...</td>\n",
       "      <td>Father of the Bride Part II</td>\n",
       "      <td>False</td>\n",
       "      <td>5.7</td>\n",
       "      <td>173.0</td>\n",
       "    </tr>\n",
       "  </tbody>\n",
       "</table>\n",
       "</div>"
      ],
      "text/plain": [
       "   adult                              belongs_to_collection    budget  \\\n",
       "0  False  {'id': 10194, 'name': 'Toy Story Collection', ...  30000000   \n",
       "1  False                                                NaN  65000000   \n",
       "2  False  {'id': 119050, 'name': 'Grumpy Old Men Collect...         0   \n",
       "3  False                                                NaN  16000000   \n",
       "4  False  {'id': 96871, 'name': 'Father of the Bride Col...         0   \n",
       "\n",
       "                                              genres  \\\n",
       "0  [{'id': 16, 'name': 'Animation'}, {'id': 35, '...   \n",
       "1  [{'id': 12, 'name': 'Adventure'}, {'id': 14, '...   \n",
       "2  [{'id': 10749, 'name': 'Romance'}, {'id': 35, ...   \n",
       "3  [{'id': 35, 'name': 'Comedy'}, {'id': 18, 'nam...   \n",
       "4                     [{'id': 35, 'name': 'Comedy'}]   \n",
       "\n",
       "                               homepage     id    imdb_id original_language  \\\n",
       "0  http://toystory.disney.com/toy-story    862  tt0114709                en   \n",
       "1                                   NaN   8844  tt0113497                en   \n",
       "2                                   NaN  15602  tt0113228                en   \n",
       "3                                   NaN  31357  tt0114885                en   \n",
       "4                                   NaN  11862  tt0113041                en   \n",
       "\n",
       "                original_title  \\\n",
       "0                    Toy Story   \n",
       "1                      Jumanji   \n",
       "2             Grumpier Old Men   \n",
       "3            Waiting to Exhale   \n",
       "4  Father of the Bride Part II   \n",
       "\n",
       "                                            overview popularity  \\\n",
       "0  Led by Woody, Andy's toys live happily in his ...  21.946943   \n",
       "1  When siblings Judy and Peter discover an encha...  17.015539   \n",
       "2  A family wedding reignites the ancient feud be...    11.7129   \n",
       "3  Cheated on, mistreated and stepped on, the wom...   3.859495   \n",
       "4  Just when George Banks has recovered from his ...   8.387519   \n",
       "\n",
       "                        poster_path  \\\n",
       "0  /rhIRbceoE9lR4veEXuwCC2wARtG.jpg   \n",
       "1  /vzmL6fP7aPKNKPRTFnZmiUfciyV.jpg   \n",
       "2  /6ksm1sjKMFLbO7UY2i6G1ju9SML.jpg   \n",
       "3  /16XOMpEaLWkrcPqSQqhTmeJuqQl.jpg   \n",
       "4  /e64sOI48hQXyru7naBFyssKFxVd.jpg   \n",
       "\n",
       "                                production_companies  \\\n",
       "0     [{'name': 'Pixar Animation Studios', 'id': 3}]   \n",
       "1  [{'name': 'TriStar Pictures', 'id': 559}, {'na...   \n",
       "2  [{'name': 'Warner Bros.', 'id': 6194}, {'name'...   \n",
       "3  [{'name': 'Twentieth Century Fox Film Corporat...   \n",
       "4  [{'name': 'Sandollar Productions', 'id': 5842}...   \n",
       "\n",
       "                                production_countries release_date  \\\n",
       "0  [{'iso_3166_1': 'US', 'name': 'United States o...   1995-10-30   \n",
       "1  [{'iso_3166_1': 'US', 'name': 'United States o...   1995-12-15   \n",
       "2  [{'iso_3166_1': 'US', 'name': 'United States o...   1995-12-22   \n",
       "3  [{'iso_3166_1': 'US', 'name': 'United States o...   1995-12-22   \n",
       "4  [{'iso_3166_1': 'US', 'name': 'United States o...   1995-02-10   \n",
       "\n",
       "       revenue  runtime                                   spoken_languages  \\\n",
       "0  373554033.0     81.0           [{'iso_639_1': 'en', 'name': 'English'}]   \n",
       "1  262797249.0    104.0  [{'iso_639_1': 'en', 'name': 'English'}, {'iso...   \n",
       "2          0.0    101.0           [{'iso_639_1': 'en', 'name': 'English'}]   \n",
       "3   81452156.0    127.0           [{'iso_639_1': 'en', 'name': 'English'}]   \n",
       "4   76578911.0    106.0           [{'iso_639_1': 'en', 'name': 'English'}]   \n",
       "\n",
       "     status                                            tagline  \\\n",
       "0  Released                                                NaN   \n",
       "1  Released          Roll the dice and unleash the excitement!   \n",
       "2  Released  Still Yelling. Still Fighting. Still Ready for...   \n",
       "3  Released  Friends are the people who let you be yourself...   \n",
       "4  Released  Just When His World Is Back To Normal... He's ...   \n",
       "\n",
       "                         title  video  vote_average  vote_count  \n",
       "0                    Toy Story  False           7.7      5415.0  \n",
       "1                      Jumanji  False           6.9      2413.0  \n",
       "2             Grumpier Old Men  False           6.5        92.0  \n",
       "3            Waiting to Exhale  False           6.1        34.0  \n",
       "4  Father of the Bride Part II  False           5.7       173.0  "
      ]
     },
     "execution_count": 6,
     "metadata": {},
     "output_type": "execute_result"
    }
   ],
   "source": [
    "md.head()"
   ]
  },
  {
   "cell_type": "markdown",
   "id": "141abac9",
   "metadata": {},
   "source": [
    "#### Generating TF-IDF features"
   ]
  },
  {
   "cell_type": "code",
   "execution_count": 7,
   "id": "52fb772c",
   "metadata": {},
   "outputs": [],
   "source": [
    "# Apply some preprocessing on meta data about movies\n",
    "\n",
    "md['genres'] = md['genres'].fillna('[]').apply(literal_eval).apply(lambda x: [i['name'] for i in x] if isinstance(x, list) else [])\n",
    "md['year'] = pd.to_datetime(md['release_date'], errors='coerce').apply(lambda x: str(x).split('-')[0] if x != np.nan else np.nan)"
   ]
  },
  {
   "cell_type": "code",
   "execution_count": null,
   "id": "385b51db",
   "metadata": {},
   "outputs": [],
   "source": [
    "# Filter only for movie mapping that has tmdbId\n",
    "\n",
    "links_small = pd.read_csv('../data/input/links0.csv')\n",
    "links_small = links_small[links_small['tmdbId'].notnull()]['tmdbId'].astype('int')"
   ]
  },
  {
   "cell_type": "code",
   "execution_count": 9,
   "id": "6f0b1486",
   "metadata": {},
   "outputs": [
    {
     "data": {
      "text/plain": [
       "Index(['movieId', 'imdbId', 'tmdbId', 'title', 'year', 'num_ratings',\n",
       "       'avg_rating', 'isAdult', 'runtimeMinutes', 'directors', 'directorId',\n",
       "       'no_genres', 'action', 'adventure', 'animation', 'children', 'comedy',\n",
       "       'crime', 'documentary', 'drama', 'fantasy', 'film-noir', 'horror',\n",
       "       'imax', 'musical', 'mystery', 'romance', 'sci-fi', 'thriller', 'war',\n",
       "       'western', 'genres'],\n",
       "      dtype='object')"
      ]
     },
     "execution_count": 9,
     "metadata": {},
     "output_type": "execute_result"
    }
   ],
   "source": [
    "movies.columns"
   ]
  },
  {
   "cell_type": "code",
   "execution_count": 10,
   "id": "edb23216",
   "metadata": {},
   "outputs": [],
   "source": [
    "# Need to drop these wrong entries\n",
    "#md.iloc[[19730, 29503, 35587],]\n",
    "md = md.drop([19730, 29503, 35587])\n",
    "\n",
    "# Take meta data about movies with mapping\n",
    "md['id'] = md['id'].astype('int')\n",
    "#smd = md[md['id'].isin(links_small)]\n",
    "#smd.shape\n",
    "\n",
    "# Add directors and movielens id\n",
    "movies = movies.merge(directors[['directorId', 'name']], on = 'directorId')\n",
    "movies = movies.rename({'name':'director_name', 'imdbId':'imdb_id'}, axis=1)\n",
    "smd = md.merge(movies[['director_name', 'imdb_id', 'movieId']], on='imdb_id')"
   ]
  },
  {
   "cell_type": "code",
   "execution_count": 11,
   "id": "9ca53e79",
   "metadata": {},
   "outputs": [],
   "source": [
    "# FILTER BY MOVIES WITH AT LEAST 100 REVIEWS\n",
    "\n",
    "smd = smd[smd['movieId'].isin(ids_to_use)]"
   ]
  },
  {
   "cell_type": "code",
   "execution_count": 12,
   "id": "a2955417",
   "metadata": {},
   "outputs": [],
   "source": [
    "# Preprocess tagline and description\n",
    "\n",
    "smd['tagline'] = smd['tagline'].fillna('')\n",
    "smd['description'] = smd['overview'] + smd['tagline'] + smd['director_name']\n",
    "smd['description'] = smd['description'].fillna('')"
   ]
  },
  {
   "cell_type": "code",
   "execution_count": 15,
   "id": "010f7c5f",
   "metadata": {},
   "outputs": [
    {
     "data": {
      "text/plain": [
       "9643"
      ]
     },
     "execution_count": 15,
     "metadata": {},
     "output_type": "execute_result"
    }
   ],
   "source": [
    "len(smd['movieId'])"
   ]
  },
  {
   "cell_type": "code",
   "execution_count": 24,
   "id": "5a13908a",
   "metadata": {},
   "outputs": [],
   "source": [
    "# Drop duplicates\n",
    "\n",
    "smd = smd.loc[smd['movieId'].drop_duplicates().index].sort_values('movieId')"
   ]
  },
  {
   "cell_type": "code",
   "execution_count": 28,
   "id": "08e902d1",
   "metadata": {},
   "outputs": [
    {
     "name": "stdout",
     "output_type": "stream",
     "text": [
      "Time to train was: 2.74613881111145 seconds\n"
     ]
    }
   ],
   "source": [
    "# Apply and create TF-IDF features\n",
    "\n",
    "start_time = time.time()\n",
    "\n",
    "tf = TfidfVectorizer(analyzer='word',ngram_range=(1, 2),min_df=0, stop_words='english')\n",
    "tfidf_matrix = tf.fit_transform(smd['description'])\n",
    "cosine_sim = linear_kernel(tfidf_matrix, tfidf_matrix)\n",
    "\n",
    "print(f'Time to train was: {time.time() - start_time} seconds' )"
   ]
  },
  {
   "cell_type": "markdown",
   "id": "2444b068",
   "metadata": {},
   "source": [
    "#### Export similarity matrix based on description, tagline and directors"
   ]
  },
  {
   "cell_type": "code",
   "execution_count": 29,
   "id": "6f39e0a4",
   "metadata": {},
   "outputs": [
    {
     "data": {
      "text/plain": [
       "<9643x296269 sparse matrix of type '<class 'numpy.float64'>'\n",
       "\twith 604840 stored elements in Compressed Sparse Row format>"
      ]
     },
     "execution_count": 29,
     "metadata": {},
     "output_type": "execute_result"
    }
   ],
   "source": [
    "tfidf_matrix"
   ]
  },
  {
   "cell_type": "code",
   "execution_count": 30,
   "id": "1e379bf7",
   "metadata": {},
   "outputs": [
    {
     "data": {
      "text/plain": [
       "(9643, 9643)"
      ]
     },
     "execution_count": 30,
     "metadata": {},
     "output_type": "execute_result"
    }
   ],
   "source": [
    "cosine_sim.shape"
   ]
  },
  {
   "cell_type": "code",
   "execution_count": 31,
   "id": "b4dbe0ce-ff13-4c79-bc2a-572265370ecb",
   "metadata": {},
   "outputs": [
    {
     "data": {
      "text/plain": [
       "array([[1.        , 0.00639703, 0.00285656, 0.        ],\n",
       "       [0.00639703, 1.        , 0.01473762, 0.        ],\n",
       "       [0.00285656, 0.01473762, 1.        , 0.        ],\n",
       "       [0.        , 0.        , 0.        , 1.        ]])"
      ]
     },
     "execution_count": 31,
     "metadata": {},
     "output_type": "execute_result"
    }
   ],
   "source": [
    "cosine_sim[0:4,0:4]"
   ]
  },
  {
   "cell_type": "code",
   "execution_count": 32,
   "id": "f29df949",
   "metadata": {},
   "outputs": [],
   "source": [
    "np.savetxt('content_based_matrix.txt', cosine_sim, fmt='%1.4f')"
   ]
  },
  {
   "cell_type": "markdown",
   "id": "eb0342ac",
   "metadata": {},
   "source": [
    "#### Playground"
   ]
  },
  {
   "cell_type": "code",
   "execution_count": 33,
   "id": "b8f07cc6",
   "metadata": {},
   "outputs": [],
   "source": [
    "smd = smd.reset_index(drop=True)"
   ]
  },
  {
   "cell_type": "code",
   "execution_count": 34,
   "id": "d837159f",
   "metadata": {},
   "outputs": [
    {
     "data": {
      "text/html": [
       "<div>\n",
       "<style scoped>\n",
       "    .dataframe tbody tr th:only-of-type {\n",
       "        vertical-align: middle;\n",
       "    }\n",
       "\n",
       "    .dataframe tbody tr th {\n",
       "        vertical-align: top;\n",
       "    }\n",
       "\n",
       "    .dataframe thead th {\n",
       "        text-align: right;\n",
       "    }\n",
       "</style>\n",
       "<table border=\"1\" class=\"dataframe\">\n",
       "  <thead>\n",
       "    <tr style=\"text-align: right;\">\n",
       "      <th></th>\n",
       "      <th>index</th>\n",
       "      <th>movieId</th>\n",
       "      <th>title</th>\n",
       "    </tr>\n",
       "  </thead>\n",
       "  <tbody>\n",
       "    <tr>\n",
       "      <th>0</th>\n",
       "      <td>0</td>\n",
       "      <td>1</td>\n",
       "      <td>Toy Story</td>\n",
       "    </tr>\n",
       "    <tr>\n",
       "      <th>1</th>\n",
       "      <td>1</td>\n",
       "      <td>2</td>\n",
       "      <td>Jumanji</td>\n",
       "    </tr>\n",
       "    <tr>\n",
       "      <th>2</th>\n",
       "      <td>2</td>\n",
       "      <td>3</td>\n",
       "      <td>Grumpier Old Men</td>\n",
       "    </tr>\n",
       "    <tr>\n",
       "      <th>3</th>\n",
       "      <td>3</td>\n",
       "      <td>4</td>\n",
       "      <td>Waiting to Exhale</td>\n",
       "    </tr>\n",
       "    <tr>\n",
       "      <th>4</th>\n",
       "      <td>4</td>\n",
       "      <td>5</td>\n",
       "      <td>Father of the Bride Part II</td>\n",
       "    </tr>\n",
       "    <tr>\n",
       "      <th>...</th>\n",
       "      <td>...</td>\n",
       "      <td>...</td>\n",
       "      <td>...</td>\n",
       "    </tr>\n",
       "    <tr>\n",
       "      <th>9638</th>\n",
       "      <td>9638</td>\n",
       "      <td>175585</td>\n",
       "      <td>Shot Caller</td>\n",
       "    </tr>\n",
       "    <tr>\n",
       "      <th>9639</th>\n",
       "      <td>9639</td>\n",
       "      <td>175655</td>\n",
       "      <td>Girls Trip</td>\n",
       "    </tr>\n",
       "    <tr>\n",
       "      <th>9640</th>\n",
       "      <td>9640</td>\n",
       "      <td>175659</td>\n",
       "      <td>Detroit</td>\n",
       "    </tr>\n",
       "    <tr>\n",
       "      <th>9641</th>\n",
       "      <td>9641</td>\n",
       "      <td>175667</td>\n",
       "      <td>Columbus</td>\n",
       "    </tr>\n",
       "    <tr>\n",
       "      <th>9642</th>\n",
       "      <td>9642</td>\n",
       "      <td>175813</td>\n",
       "      <td>Force Majeure</td>\n",
       "    </tr>\n",
       "  </tbody>\n",
       "</table>\n",
       "<p>9643 rows × 3 columns</p>\n",
       "</div>"
      ],
      "text/plain": [
       "      index  movieId                        title\n",
       "0         0        1                    Toy Story\n",
       "1         1        2                      Jumanji\n",
       "2         2        3             Grumpier Old Men\n",
       "3         3        4            Waiting to Exhale\n",
       "4         4        5  Father of the Bride Part II\n",
       "...     ...      ...                          ...\n",
       "9638   9638   175585                  Shot Caller\n",
       "9639   9639   175655                   Girls Trip\n",
       "9640   9640   175659                      Detroit\n",
       "9641   9641   175667                     Columbus\n",
       "9642   9642   175813                Force Majeure\n",
       "\n",
       "[9643 rows x 3 columns]"
      ]
     },
     "execution_count": 34,
     "metadata": {},
     "output_type": "execute_result"
    }
   ],
   "source": [
    "a = pd.DataFrame({\"index\": smd.index, \"movieId\": smd['movieId'], \"title\":smd['title']})\n",
    "a"
   ]
  },
  {
   "cell_type": "code",
   "execution_count": 35,
   "id": "42e1afdb",
   "metadata": {},
   "outputs": [],
   "source": [
    "pd.DataFrame({\"index\": smd.index, \"movieId\": smd['movieId'], \"title\":smd['title']}).to_csv('content_based_index.txt', index=False)"
   ]
  },
  {
   "cell_type": "code",
   "execution_count": 15,
   "id": "7a621802",
   "metadata": {},
   "outputs": [
    {
     "data": {
      "text/plain": [
       "title\n",
       "Toy Story                         0\n",
       "Jumanji                           1\n",
       "Grumpier Old Men                  2\n",
       "Waiting to Exhale                 3\n",
       "Father of the Bride Part II       4\n",
       "                               ... \n",
       "Wind River                     9644\n",
       "Shot Caller                    9645\n",
       "Girls Trip                     9646\n",
       "Detroit                        9647\n",
       "Columbus                       9648\n",
       "Length: 9649, dtype: int64"
      ]
     },
     "execution_count": 15,
     "metadata": {},
     "output_type": "execute_result"
    }
   ],
   "source": [
    "pd.Series(smd.index, index=smd['title'])"
   ]
  },
  {
   "cell_type": "code",
   "execution_count": 49,
   "id": "109cb043",
   "metadata": {},
   "outputs": [],
   "source": [
    "smd = smd.reset_index()\n",
    "titles = smd['title']\n",
    "indices = pd.Series(smd.index, index=smd['title'])"
   ]
  },
  {
   "cell_type": "code",
   "execution_count": 50,
   "id": "421c0a92",
   "metadata": {},
   "outputs": [],
   "source": [
    "# Create simple get function\n",
    "\n",
    "def get_recommendations(title:str, recommendations:int):\n",
    "    idx = indices[title]\n",
    "    sim_scores = list(enumerate(cosine_sim[idx]))\n",
    "    sim_scores = sorted(sim_scores, key=lambda x: x[1], reverse=True)\n",
    "    sim_scores = sim_scores[1:31]\n",
    "    movie_indices = [i[0] for i in sim_scores]\n",
    "    return titles.iloc[movie_indices].head(recommendations)"
   ]
  },
  {
   "cell_type": "code",
   "execution_count": 52,
   "id": "b85fc097",
   "metadata": {},
   "outputs": [
    {
     "data": {
      "text/plain": [
       "13140                         Obsessed\n",
       "31617    The Education of Sonny Carson\n",
       "4610                         Zoolander\n",
       "26321                         Baseline\n",
       "11993                     Blind Dating\n",
       "Name: title, dtype: object"
      ]
     },
     "execution_count": 52,
     "metadata": {},
     "output_type": "execute_result"
    }
   ],
   "source": [
    "# Get 5 recommendation for Toy Story movie\n",
    "\n",
    "get_recommendations(title = 'American History X', recommendations = 5)"
   ]
  },
  {
   "cell_type": "code",
   "execution_count": 56,
   "id": "b793d9fe",
   "metadata": {},
   "outputs": [],
   "source": [
    "# If we want to add to the description the rating part we can apply the following \n",
    "\n",
    "# we can play with these parameters\n",
    "vote_counts = md[md['vote_count'].notnull()]['vote_count'].astype('int')\n",
    "vote_averages = md[md['vote_average'].notnull()]['vote_average'].astype('int')\n",
    "C = vote_averages.mean()\n",
    "m = vote_counts.quantile(0.95)\n",
    "\n",
    "def weighted_rating(x):\n",
    "    v = x['vote_count']\n",
    "    R = x['vote_average']\n",
    "    return (v/(v+m) * R) + (m/(m+v) * C)\n",
    "\n",
    "def get_recommendations_2(title:str, recommendations:int):\n",
    "    idx = indices[title]\n",
    "    sim_scores = list(enumerate(cosine_sim[idx]))\n",
    "    sim_scores = sorted(sim_scores, key=lambda x: x[1], reverse=True)\n",
    "    sim_scores = sim_scores[1:26]\n",
    "    movie_indices = [i[0] for i in sim_scores]\n",
    "    \n",
    "    movies = smd.iloc[movie_indices][['title', 'vote_count', 'vote_average', 'year']]\n",
    "    vote_counts = movies[movies['vote_count'].notnull()]['vote_count'].astype('int')\n",
    "    vote_averages = movies[movies['vote_average'].notnull()]['vote_average'].astype('int')\n",
    "    \n",
    "    # we can play with these parameters\n",
    "    C = vote_averages.mean()\n",
    "    m = vote_counts.quantile(0.60)\n",
    "    \n",
    "    \n",
    "    qualified = movies[(movies['vote_count'] >= m) & (movies['vote_count'].notnull()) & (movies['vote_average'].notnull())]\n",
    "    qualified['vote_count'] = qualified['vote_count'].astype('int')\n",
    "    qualified['vote_average'] = qualified['vote_average'].astype('int')\n",
    "    qualified['wr'] = qualified.apply(weighted_rating, axis=1)\n",
    "    qualified = qualified.sort_values('wr', ascending=False).head(10)\n",
    "    return qualified.head(recommendations)"
   ]
  },
  {
   "cell_type": "code",
   "execution_count": 57,
   "id": "7daafe95",
   "metadata": {},
   "outputs": [
    {
     "data": {
      "text/html": [
       "<div>\n",
       "<style scoped>\n",
       "    .dataframe tbody tr th:only-of-type {\n",
       "        vertical-align: middle;\n",
       "    }\n",
       "\n",
       "    .dataframe tbody tr th {\n",
       "        vertical-align: top;\n",
       "    }\n",
       "\n",
       "    .dataframe thead th {\n",
       "        text-align: right;\n",
       "    }\n",
       "</style>\n",
       "<table border=\"1\" class=\"dataframe\">\n",
       "  <thead>\n",
       "    <tr style=\"text-align: right;\">\n",
       "      <th></th>\n",
       "      <th>title</th>\n",
       "      <th>vote_count</th>\n",
       "      <th>vote_average</th>\n",
       "      <th>year</th>\n",
       "      <th>wr</th>\n",
       "    </tr>\n",
       "  </thead>\n",
       "  <tbody>\n",
       "    <tr>\n",
       "      <th>7336</th>\n",
       "      <td>Toy Story 3</td>\n",
       "      <td>4710</td>\n",
       "      <td>7</td>\n",
       "      <td>2010</td>\n",
       "      <td>6.851922</td>\n",
       "    </tr>\n",
       "    <tr>\n",
       "      <th>2352</th>\n",
       "      <td>Toy Story 2</td>\n",
       "      <td>3914</td>\n",
       "      <td>7</td>\n",
       "      <td>1999</td>\n",
       "      <td>6.824813</td>\n",
       "    </tr>\n",
       "    <tr>\n",
       "      <th>6057</th>\n",
       "      <td>Match Point</td>\n",
       "      <td>1134</td>\n",
       "      <td>7</td>\n",
       "      <td>2005</td>\n",
       "      <td>6.514212</td>\n",
       "    </tr>\n",
       "    <tr>\n",
       "      <th>941</th>\n",
       "      <td>Manhattan</td>\n",
       "      <td>600</td>\n",
       "      <td>7</td>\n",
       "      <td>1979</td>\n",
       "      <td>6.263332</td>\n",
       "    </tr>\n",
       "    <tr>\n",
       "      <th>9198</th>\n",
       "      <td>Hunt for the Wilderpeople</td>\n",
       "      <td>453</td>\n",
       "      <td>7</td>\n",
       "      <td>2016</td>\n",
       "      <td>6.141246</td>\n",
       "    </tr>\n",
       "  </tbody>\n",
       "</table>\n",
       "</div>"
      ],
      "text/plain": [
       "                          title  vote_count  vote_average  year        wr\n",
       "7336                Toy Story 3        4710             7  2010  6.851922\n",
       "2352                Toy Story 2        3914             7  1999  6.824813\n",
       "6057                Match Point        1134             7  2005  6.514212\n",
       "941                   Manhattan         600             7  1979  6.263332\n",
       "9198  Hunt for the Wilderpeople         453             7  2016  6.141246"
      ]
     },
     "execution_count": 57,
     "metadata": {},
     "output_type": "execute_result"
    }
   ],
   "source": [
    "get_recommendations_2(title = 'Toy Story', recommendations = 5)"
   ]
  },
  {
   "cell_type": "code",
   "execution_count": null,
   "id": "15cdb944",
   "metadata": {},
   "outputs": [],
   "source": [
    "## Irene's code"
   ]
  },
  {
   "cell_type": "code",
   "execution_count": 17,
   "id": "7d19f035",
   "metadata": {},
   "outputs": [
    {
     "data": {
      "text/plain": [
       "'/Users/arseniykolmagorov/Desktop/Universitat/Q1/CIÈNCIA DE DADES ÀGIL/agile-project/GetMeAMovie/Data & ML'"
      ]
     },
     "execution_count": 17,
     "metadata": {},
     "output_type": "execute_result"
    }
   ],
   "source": [
    "pwd"
   ]
  },
  {
   "cell_type": "code",
   "execution_count": 319,
   "id": "ab9ec958",
   "metadata": {},
   "outputs": [
    {
     "name": "stdout",
     "output_type": "stream",
     "text": [
      "hey\n",
      "hey\n"
     ]
    }
   ],
   "source": [
    "import pandas as pd\n",
    "import numpy as np\n",
    "\n",
    "all_ratings = pd.read_csv('ratings.csv')\n",
    "all_ratings.drop('rating_date', axis=1, inplace=True) \n",
    "print('hey')\n",
    "# Exclude movies not rated by 100 users\n",
    "#keep = all_ratings.movieId.value_counts()[all_ratings.movieId.value_counts() > 100].index.values\n",
    "all_ratings = all_ratings.loc[all_ratings.movieId.isin(smd['movieId']),:]\n",
    "print('hey')\n",
    "def assign_to_set(df):\n",
    "    sampled_ids = np.random.choice(df.index,\n",
    "                                   size=np.int64(np.ceil(df.index.size * 0.5)),\n",
    "                                   replace=False)\n",
    "    df.loc[sampled_ids, 'for_testing'] = True\n",
    "    return df\n"
   ]
  },
  {
   "cell_type": "code",
   "execution_count": 320,
   "id": "b6fd7eaa",
   "metadata": {},
   "outputs": [
    {
     "name": "stdout",
     "output_type": "stream",
     "text": [
      "hey\n",
      "hey\n"
     ]
    }
   ],
   "source": [
    "from tqdm import tqdm\n",
    "all_ratings.loc[:,'for_testing'] = False\n",
    "all_ratings = all_ratings.groupby('userId', group_keys=False).apply(assign_to_set) \n",
    "print('hey')\n",
    "training_ratings = all_ratings[all_ratings.for_testing == False]\n",
    "test_ratings = all_ratings[all_ratings.for_testing == True]\n",
    "print('hey')\n",
    "def predict(user, train_rates, test_rates, similarity, all_movies):\n",
    "    #user_rates = all_rates[all_rates.userId == user, :]\n",
    "    train_rates = train_rates[train_rates.userId == user]\n",
    "    test_rates = test_rates[test_rates.userId == user]\n",
    "    \n",
    "    \n",
    "    rated_movies = train_rates.movieId.values\n",
    "    ratings = train_rates.rating.values\n",
    "    \n",
    "    to_rate_movies = test_rates.movieId.values\n",
    "    to_rate_y = test_rates.rating.values\n",
    "    \n",
    "    reduced_sim = similarity[all_movies.isin(rated_movies), :][:, all_movies.isin(to_rate_movies).values]\n",
    "    \n",
    "    prediction = np.dot(ratings, reduced_sim)/np.sum(reduced_sim, axis=0)\n",
    "    \n",
    "    error = prediction - to_rate_y\n",
    "    \n",
    "    return error"
   ]
  },
  {
   "cell_type": "code",
   "execution_count": 222,
   "id": "54b8ba17",
   "metadata": {},
   "outputs": [],
   "source": [
    "def get_even(train, test):\n",
    "    if train.shape[0]>test.shape[0]:\n",
    "        print('train has more rows than test')\n",
    "        while train.shape[0]>test.shape[0]:\n",
    "            train = train.drop(train.index[[0]])\n",
    "        return train, test\n",
    "    else:\n",
    "        print('test has more rows than train')\n",
    "        while train.shape[0]<test.shape[0]:\n",
    "            test = test.drop(test.index[[0]])\n",
    "        return train, test"
   ]
  },
  {
   "cell_type": "code",
   "execution_count": 263,
   "id": "3eb33577",
   "metadata": {},
   "outputs": [
    {
     "data": {
      "text/plain": [
       "976"
      ]
     },
     "execution_count": 263,
     "metadata": {},
     "output_type": "execute_result"
    }
   ],
   "source": [
    "all_movies[810]"
   ]
  },
  {
   "cell_type": "code",
   "execution_count": 407,
   "id": "89c7a908",
   "metadata": {},
   "outputs": [
    {
     "data": {
      "text/plain": [
       "9643"
      ]
     },
     "execution_count": 407,
     "metadata": {},
     "output_type": "execute_result"
    }
   ],
   "source": [
    "len(np.unique(smd['movieId']))"
   ]
  },
  {
   "cell_type": "code",
   "execution_count": 317,
   "id": "5266072e",
   "metadata": {},
   "outputs": [],
   "source": [
    "all_movies = smd['movieId']\n",
    "similarity = cosine_sim"
   ]
  },
  {
   "cell_type": "code",
   "execution_count": 318,
   "id": "93b963e8",
   "metadata": {},
   "outputs": [
    {
     "ename": "ValueError",
     "evalue": "shapes (319,) and (320,319) not aligned: 319 (dim 0) != 320 (dim 0)",
     "output_type": "error",
     "traceback": [
      "\u001b[0;31m---------------------------------------------------------------------------\u001b[0m",
      "\u001b[0;31mValueError\u001b[0m                                Traceback (most recent call last)",
      "\u001b[0;32m<ipython-input-318-5da42a3c60c7>\u001b[0m in \u001b[0;36m<module>\u001b[0;34m\u001b[0m\n\u001b[1;32m     12\u001b[0m \u001b[0mreduced_sim\u001b[0m \u001b[0;34m=\u001b[0m \u001b[0msimilarity\u001b[0m\u001b[0;34m[\u001b[0m\u001b[0mall_movies\u001b[0m\u001b[0;34m.\u001b[0m\u001b[0misin\u001b[0m\u001b[0;34m(\u001b[0m\u001b[0mrated_movies\u001b[0m\u001b[0;34m)\u001b[0m\u001b[0;34m,\u001b[0m \u001b[0;34m:\u001b[0m\u001b[0;34m]\u001b[0m\u001b[0;34m[\u001b[0m\u001b[0;34m:\u001b[0m\u001b[0;34m,\u001b[0m \u001b[0mall_movies\u001b[0m\u001b[0;34m.\u001b[0m\u001b[0misin\u001b[0m\u001b[0;34m(\u001b[0m\u001b[0mto_rate_movies\u001b[0m\u001b[0;34m)\u001b[0m\u001b[0;34m.\u001b[0m\u001b[0mvalues\u001b[0m\u001b[0;34m]\u001b[0m\u001b[0;34m\u001b[0m\u001b[0;34m\u001b[0m\u001b[0m\n\u001b[1;32m     13\u001b[0m \u001b[0;34m\u001b[0m\u001b[0m\n\u001b[0;32m---> 14\u001b[0;31m \u001b[0mprediction\u001b[0m \u001b[0;34m=\u001b[0m \u001b[0mnp\u001b[0m\u001b[0;34m.\u001b[0m\u001b[0mdot\u001b[0m\u001b[0;34m(\u001b[0m\u001b[0mratings\u001b[0m\u001b[0;34m,\u001b[0m \u001b[0mreduced_sim\u001b[0m\u001b[0;34m.\u001b[0m\u001b[0mT\u001b[0m\u001b[0;34m)\u001b[0m\u001b[0;34m/\u001b[0m\u001b[0mnp\u001b[0m\u001b[0;34m.\u001b[0m\u001b[0msum\u001b[0m\u001b[0;34m(\u001b[0m\u001b[0mreduced_sim\u001b[0m\u001b[0;34m,\u001b[0m \u001b[0maxis\u001b[0m\u001b[0;34m=\u001b[0m\u001b[0;36m0\u001b[0m\u001b[0;34m)\u001b[0m\u001b[0;34m\u001b[0m\u001b[0;34m\u001b[0m\u001b[0m\n\u001b[0m\u001b[1;32m     15\u001b[0m \u001b[0;34m\u001b[0m\u001b[0m\n\u001b[1;32m     16\u001b[0m \u001b[0merror\u001b[0m \u001b[0;34m=\u001b[0m \u001b[0mprediction\u001b[0m \u001b[0;34m-\u001b[0m \u001b[0mto_rate_y\u001b[0m\u001b[0;34m\u001b[0m\u001b[0;34m\u001b[0m\u001b[0m\n",
      "\u001b[0;32m<__array_function__ internals>\u001b[0m in \u001b[0;36mdot\u001b[0;34m(*args, **kwargs)\u001b[0m\n",
      "\u001b[0;31mValueError\u001b[0m: shapes (319,) and (320,319) not aligned: 319 (dim 0) != 320 (dim 0)"
     ]
    }
   ],
   "source": [
    "train_rates = training_ratings[training_ratings.userId == user]\n",
    "test_rates = test_ratings[test_ratings.userId == user]\n",
    "\n",
    "#train_rates, test_rates = get_even(train_rates, test_rates)\n",
    "\n",
    "rated_movies = train_rates.movieId.values\n",
    "ratings = train_rates.rating.values\n",
    "\n",
    "to_rate_movies = test_rates.movieId.values\n",
    "to_rate_y = test_rates.rating.values\n",
    "\n",
    "reduced_sim = similarity[all_movies.isin(rated_movies), :][:, all_movies.isin(to_rate_movies).values]\n",
    "\n",
    "prediction = np.dot(ratings, reduced_sim.T)/np.sum(reduced_sim, axis=0)\n",
    "\n",
    "error = prediction - to_rate_y"
   ]
  },
  {
   "cell_type": "code",
   "execution_count": 177,
   "id": "6262683b",
   "metadata": {},
   "outputs": [
    {
     "data": {
      "text/plain": [
       "(320, 4)"
      ]
     },
     "execution_count": 177,
     "metadata": {},
     "output_type": "execute_result"
    }
   ],
   "source": [
    "test_rates.shape"
   ]
  },
  {
   "cell_type": "code",
   "execution_count": 322,
   "id": "9660deb7",
   "metadata": {},
   "outputs": [
    {
     "name": "stderr",
     "output_type": "stream",
     "text": [
      "  0%|          | 0/162538 [00:00<?, ?it/s]"
     ]
    },
    {
     "name": "stdout",
     "output_type": "stream",
     "text": [
      "hey\n"
     ]
    },
    {
     "name": "stderr",
     "output_type": "stream",
     "text": [
      "100%|██████████| 162538/162538 [2:39:24<00:00, 16.99it/s]  \n"
     ]
    }
   ],
   "source": [
    "all_error = []\n",
    "user_rmse = []\n",
    "n_rated = []\n",
    "print('hey')\n",
    "for user in tqdm(training_ratings.userId.unique()):\n",
    "    error = predict(user, training_ratings, test_ratings, cosine_sim, smd['movieId'])\n",
    "    all_error.append(error.tolist())\n",
    "    user_rmse.append(np.sqrt(np.mean(np.power(np.array(error), 2))))\n",
    "    n_rated.append(np.sum(all_ratings.userId == user))\n",
    "    \n",
    "rmse = np.sqrt(np.nanmean(np.power(list(itertools.chain.from_iterable(all_error)), 2)))"
   ]
  },
  {
   "cell_type": "code",
   "execution_count": 413,
   "id": "df03b082",
   "metadata": {},
   "outputs": [
    {
     "data": {
      "text/plain": [
       "110"
      ]
     },
     "execution_count": 413,
     "metadata": {},
     "output_type": "execute_result"
    }
   ],
   "source": [
    "len(all_error[3])"
   ]
  },
  {
   "cell_type": "code",
   "execution_count": null,
   "id": "70ec7618",
   "metadata": {},
   "outputs": [],
   "source": []
  },
  {
   "cell_type": "code",
   "execution_count": 416,
   "id": "b75b58bb",
   "metadata": {},
   "outputs": [
    {
     "data": {
      "text/plain": [
       "162538"
      ]
     },
     "execution_count": 416,
     "metadata": {},
     "output_type": "execute_result"
    }
   ],
   "source": [
    "len(n_rated)"
   ]
  },
  {
   "cell_type": "code",
   "execution_count": 323,
   "id": "9c1f7184",
   "metadata": {},
   "outputs": [
    {
     "data": {
      "text/plain": [
       "0.9506228279092737"
      ]
     },
     "execution_count": 323,
     "metadata": {},
     "output_type": "execute_result"
    }
   ],
   "source": [
    "rmse"
   ]
  },
  {
   "cell_type": "code",
   "execution_count": 383,
   "id": "4a66f134",
   "metadata": {},
   "outputs": [],
   "source": [
    "u_error = user_rmse.copy()\n",
    "copy_n_rated = n_rated.copy()"
   ]
  },
  {
   "cell_type": "code",
   "execution_count": 384,
   "id": "f697e61c",
   "metadata": {},
   "outputs": [],
   "source": [
    "for i in np.argwhere(np.isnan(user_rmse)):\n",
    "    u_error[i[0]] = 99999999\n",
    "    copy_n_rated[i[0]] = 99999999"
   ]
  },
  {
   "cell_type": "code",
   "execution_count": 394,
   "id": "dd793c4a",
   "metadata": {},
   "outputs": [
    {
     "name": "stdout",
     "output_type": "stream",
     "text": [
      "u_error is done\n",
      "copy_n_rated is done\n"
     ]
    }
   ],
   "source": [
    "while True:\n",
    "    try:\n",
    "        u_error.remove(99999999)\n",
    "    except:\n",
    "        print('u_error is done')\n",
    "        break\n",
    "\n",
    "while True:\n",
    "    try:\n",
    "        copy_n_rated.remove(99999999)\n",
    "    except:\n",
    "        print('copy_n_rated is done')\n",
    "        break"
   ]
  },
  {
   "cell_type": "code",
   "execution_count": 369,
   "id": "62e62807",
   "metadata": {},
   "outputs": [
    {
     "ename": "KeyboardInterrupt",
     "evalue": "",
     "output_type": "error",
     "traceback": [
      "\u001b[0;31m---------------------------------------------------------------------------\u001b[0m",
      "\u001b[0;31mKeyboardInterrupt\u001b[0m                         Traceback (most recent call last)",
      "\u001b[0;32m<ipython-input-369-f286fcf53982>\u001b[0m in \u001b[0;36m<module>\u001b[0;34m\u001b[0m\n\u001b[0;32m----> 1\u001b[0;31m \u001b[0ma\u001b[0m\u001b[0;34m[\u001b[0m\u001b[0;34m[\u001b[0m\u001b[0mi\u001b[0m \u001b[0;32mfor\u001b[0m \u001b[0mi\u001b[0m \u001b[0;32min\u001b[0m \u001b[0mrange\u001b[0m\u001b[0;34m(\u001b[0m\u001b[0;36m162538\u001b[0m\u001b[0;34m)\u001b[0m \u001b[0;32mif\u001b[0m \u001b[0mi\u001b[0m \u001b[0;32mnot\u001b[0m \u001b[0;32min\u001b[0m \u001b[0mnp\u001b[0m\u001b[0;34m.\u001b[0m\u001b[0margwhere\u001b[0m\u001b[0;34m(\u001b[0m\u001b[0mnp\u001b[0m\u001b[0;34m.\u001b[0m\u001b[0misnan\u001b[0m\u001b[0;34m(\u001b[0m\u001b[0muser_rmse\u001b[0m\u001b[0;34m)\u001b[0m\u001b[0;34m)\u001b[0m\u001b[0;34m]\u001b[0m\u001b[0;34m]\u001b[0m\u001b[0;34m\u001b[0m\u001b[0;34m\u001b[0m\u001b[0m\n\u001b[0m",
      "\u001b[0;32m<ipython-input-369-f286fcf53982>\u001b[0m in \u001b[0;36m<listcomp>\u001b[0;34m(.0)\u001b[0m\n\u001b[0;32m----> 1\u001b[0;31m \u001b[0ma\u001b[0m\u001b[0;34m[\u001b[0m\u001b[0;34m[\u001b[0m\u001b[0mi\u001b[0m \u001b[0;32mfor\u001b[0m \u001b[0mi\u001b[0m \u001b[0;32min\u001b[0m \u001b[0mrange\u001b[0m\u001b[0;34m(\u001b[0m\u001b[0;36m162538\u001b[0m\u001b[0;34m)\u001b[0m \u001b[0;32mif\u001b[0m \u001b[0mi\u001b[0m \u001b[0;32mnot\u001b[0m \u001b[0;32min\u001b[0m \u001b[0mnp\u001b[0m\u001b[0;34m.\u001b[0m\u001b[0margwhere\u001b[0m\u001b[0;34m(\u001b[0m\u001b[0mnp\u001b[0m\u001b[0;34m.\u001b[0m\u001b[0misnan\u001b[0m\u001b[0;34m(\u001b[0m\u001b[0muser_rmse\u001b[0m\u001b[0;34m)\u001b[0m\u001b[0;34m)\u001b[0m\u001b[0;34m]\u001b[0m\u001b[0;34m]\u001b[0m\u001b[0;34m\u001b[0m\u001b[0;34m\u001b[0m\u001b[0m\n\u001b[0m",
      "\u001b[0;31mKeyboardInterrupt\u001b[0m: "
     ]
    }
   ],
   "source": [
    "a[[i for i in range(162538) if i not in np.argwhere(np.isnan(user_rmse))]]"
   ]
  },
  {
   "cell_type": "code",
   "execution_count": 342,
   "id": "a3aeb4be",
   "metadata": {},
   "outputs": [
    {
     "data": {
      "text/plain": [
       "12065"
      ]
     },
     "execution_count": 342,
     "metadata": {},
     "output_type": "execute_result"
    }
   ],
   "source": [
    "len(np.argwhere(np.isnan(user_rmse)))"
   ]
  },
  {
   "cell_type": "code",
   "execution_count": 343,
   "id": "84b2e23f",
   "metadata": {},
   "outputs": [
    {
     "data": {
      "text/plain": [
       "0.07422879572776828"
      ]
     },
     "execution_count": 343,
     "metadata": {},
     "output_type": "execute_result"
    }
   ],
   "source": [
    "len(np.argwhere(np.isnan(user_rmse)))/len(user_rmse)"
   ]
  },
  {
   "cell_type": "code",
   "execution_count": 397,
   "id": "4cc014f6",
   "metadata": {},
   "outputs": [
    {
     "name": "stdout",
     "output_type": "stream",
     "text": [
      "[[ 1.         -0.09258274]\n",
      " [-0.09258274  1.        ]]\n"
     ]
    }
   ],
   "source": [
    "print(np.corrcoef(u_error, copy_n_rated))"
   ]
  },
  {
   "cell_type": "code",
   "execution_count": 405,
   "id": "cf722a7e",
   "metadata": {},
   "outputs": [
    {
     "data": {
      "text/plain": [
       "0.956651204286724"
      ]
     },
     "execution_count": 405,
     "metadata": {},
     "output_type": "execute_result"
    }
   ],
   "source": [
    "np.mean(u_error)"
   ]
  },
  {
   "cell_type": "code",
   "execution_count": 406,
   "id": "ff85bf3e",
   "metadata": {},
   "outputs": [
    {
     "data": {
      "text/plain": [
       "0.08679173210086172"
      ]
     },
     "execution_count": 406,
     "metadata": {},
     "output_type": "execute_result"
    }
   ],
   "source": [
    "np.var(u_error)"
   ]
  },
  {
   "cell_type": "code",
   "execution_count": null,
   "id": "9c463b0c",
   "metadata": {},
   "outputs": [],
   "source": [
    "plt.scatter(x, y, s=s)"
   ]
  },
  {
   "cell_type": "code",
   "execution_count": 424,
   "id": "e2c167b5",
   "metadata": {},
   "outputs": [],
   "source": [
    "d = {'predicted' : user_rmse,\n",
    "     'rated' : n_rated}\n",
    "\n",
    "df = pd.DataFrame(d)"
   ]
  },
  {
   "cell_type": "code",
   "execution_count": 428,
   "id": "a6507de5",
   "metadata": {},
   "outputs": [
    {
     "data": {
      "text/plain": [
       "0         0.615121\n",
       "5         1.012113\n",
       "6         0.600873\n",
       "9         0.911509\n",
       "10        0.993816\n",
       "            ...   \n",
       "162527    1.218785\n",
       "162531    0.879869\n",
       "162532    0.693667\n",
       "162535    0.720349\n",
       "162536    1.154124\n",
       "Name: predicted, Length: 99679, dtype: float64"
      ]
     },
     "execution_count": 428,
     "metadata": {},
     "output_type": "execute_result"
    }
   ],
   "source": [
    "df[df['rated']<100]['predicted']"
   ]
  },
  {
   "cell_type": "code",
   "execution_count": 453,
   "id": "a3eb4eef",
   "metadata": {},
   "outputs": [
    {
     "data": {
      "image/png": "[encoded data removed]",
      "text/plain": [
       "<Figure size 1296x720 with 4 Axes>"
      ]
     },
     "metadata": {
      "needs_background": "light"
     },
     "output_type": "display_data"
    }
   ],
   "source": [
    "import matplotlib.pyplot as plt\n",
    "from matplotlib.pyplot import figure\n",
    "\n",
    "#figure(figsize = (15, 10), dpi = 80)\n",
    "\n",
    "#plt.scatter(df[df['rated']<10]['predicted'], df[df['rated']<10]['rated'])\n",
    "    \n",
    "fig, axes = plt.subplots(nrows=2, ncols=2, figsize=(18, 10))  # define the figure and subplots\n",
    "colors = ['tab:blue', 'tab:orange', 'tab:green']  # list of colors for each subplot, otherwise all subplots will be one color\n",
    "rates = [10, 100, 1000, 10000]\n",
    "\n",
    "k = 0\n",
    "for i in range(2):\n",
    "    for j in range(2):\n",
    "        axes[i, j].scatter(df[df['rated']<rates[k]]['predicted'], df[df['rated']<rates[k]]['rated'], linewidths=0.001)\n",
    "        #axes[i, j].title('Less than {} ratings'.format(rates[k]))\n",
    "        plt.setp(axes[i, j], xlabel='Prediction error')\n",
    "        plt.setp(axes[i, j], ylabel='Rated movies')\n",
    "        plt.setp(axes[i, j], title='Less than {} ratings'.format(rates[k]))\n",
    "        k+=1\n",
    "    \n",
    "fig.tight_layout()\n",
    "plt.show()"
   ]
  },
  {
   "cell_type": "code",
   "execution_count": null,
   "id": "a00c60d5",
   "metadata": {},
   "outputs": [],
   "source": [
    "d = {'predicted' : user_rmse,\n",
    "     'rated' : n_rated}\n",
    "\n",
    "df = pd.DataFrame(d)\n",
    "\n",
    "#df.plot(style=['o','rx'], figsize=(15, 10))\n",
    "df['predicted'].plot(style=['o'], figsize=(15, 10))"
   ]
  },
  {
   "cell_type": "markdown",
   "id": "118e6b6f",
   "metadata": {},
   "source": [
    "#### Direct correlation"
   ]
  },
  {
   "cell_type": "code",
   "execution_count": 458,
   "id": "898874bc",
   "metadata": {},
   "outputs": [
    {
     "data": {
      "text/html": [
       "<div>\n",
       "<style scoped>\n",
       "    .dataframe tbody tr th:only-of-type {\n",
       "        vertical-align: middle;\n",
       "    }\n",
       "\n",
       "    .dataframe tbody tr th {\n",
       "        vertical-align: top;\n",
       "    }\n",
       "\n",
       "    .dataframe thead th {\n",
       "        text-align: right;\n",
       "    }\n",
       "</style>\n",
       "<table border=\"1\" class=\"dataframe\">\n",
       "  <thead>\n",
       "    <tr style=\"text-align: right;\">\n",
       "      <th></th>\n",
       "      <th>predicted</th>\n",
       "      <th>rated</th>\n",
       "    </tr>\n",
       "  </thead>\n",
       "  <tbody>\n",
       "    <tr>\n",
       "      <th>predicted</th>\n",
       "      <td>1.000000</td>\n",
       "      <td>-0.092583</td>\n",
       "    </tr>\n",
       "    <tr>\n",
       "      <th>rated</th>\n",
       "      <td>-0.092583</td>\n",
       "      <td>1.000000</td>\n",
       "    </tr>\n",
       "  </tbody>\n",
       "</table>\n",
       "</div>"
      ],
      "text/plain": [
       "           predicted     rated\n",
       "predicted   1.000000 -0.092583\n",
       "rated      -0.092583  1.000000"
      ]
     },
     "execution_count": 458,
     "metadata": {},
     "output_type": "execute_result"
    }
   ],
   "source": [
    "df.corr()"
   ]
  },
  {
   "cell_type": "markdown",
   "id": "1ca8209b",
   "metadata": {},
   "source": [
    "#### Less than 10 reviews correlation"
   ]
  },
  {
   "cell_type": "code",
   "execution_count": 459,
   "id": "033f4ec1",
   "metadata": {},
   "outputs": [
    {
     "data": {
      "text/html": [
       "<div>\n",
       "<style scoped>\n",
       "    .dataframe tbody tr th:only-of-type {\n",
       "        vertical-align: middle;\n",
       "    }\n",
       "\n",
       "    .dataframe tbody tr th {\n",
       "        vertical-align: top;\n",
       "    }\n",
       "\n",
       "    .dataframe thead th {\n",
       "        text-align: right;\n",
       "    }\n",
       "</style>\n",
       "<table border=\"1\" class=\"dataframe\">\n",
       "  <thead>\n",
       "    <tr style=\"text-align: right;\">\n",
       "      <th></th>\n",
       "      <th>predicted</th>\n",
       "      <th>rated</th>\n",
       "    </tr>\n",
       "  </thead>\n",
       "  <tbody>\n",
       "    <tr>\n",
       "      <th>predicted</th>\n",
       "      <td>1.000000</td>\n",
       "      <td>-0.144847</td>\n",
       "    </tr>\n",
       "    <tr>\n",
       "      <th>rated</th>\n",
       "      <td>-0.144847</td>\n",
       "      <td>1.000000</td>\n",
       "    </tr>\n",
       "  </tbody>\n",
       "</table>\n",
       "</div>"
      ],
      "text/plain": [
       "           predicted     rated\n",
       "predicted   1.000000 -0.144847\n",
       "rated      -0.144847  1.000000"
      ]
     },
     "execution_count": 459,
     "metadata": {},
     "output_type": "execute_result"
    }
   ],
   "source": [
    "df[df.rated<10].corr()"
   ]
  },
  {
   "cell_type": "markdown",
   "id": "0fee2b77",
   "metadata": {},
   "source": [
    "#### Less than 100 reviews correlation"
   ]
  },
  {
   "cell_type": "code",
   "execution_count": 461,
   "id": "365dc77f",
   "metadata": {},
   "outputs": [
    {
     "data": {
      "text/html": [
       "<div>\n",
       "<style scoped>\n",
       "    .dataframe tbody tr th:only-of-type {\n",
       "        vertical-align: middle;\n",
       "    }\n",
       "\n",
       "    .dataframe tbody tr th {\n",
       "        vertical-align: top;\n",
       "    }\n",
       "\n",
       "    .dataframe thead th {\n",
       "        text-align: right;\n",
       "    }\n",
       "</style>\n",
       "<table border=\"1\" class=\"dataframe\">\n",
       "  <thead>\n",
       "    <tr style=\"text-align: right;\">\n",
       "      <th></th>\n",
       "      <th>predicted</th>\n",
       "      <th>rated</th>\n",
       "    </tr>\n",
       "  </thead>\n",
       "  <tbody>\n",
       "    <tr>\n",
       "      <th>predicted</th>\n",
       "      <td>1.00000</td>\n",
       "      <td>-0.13043</td>\n",
       "    </tr>\n",
       "    <tr>\n",
       "      <th>rated</th>\n",
       "      <td>-0.13043</td>\n",
       "      <td>1.00000</td>\n",
       "    </tr>\n",
       "  </tbody>\n",
       "</table>\n",
       "</div>"
      ],
      "text/plain": [
       "           predicted    rated\n",
       "predicted    1.00000 -0.13043\n",
       "rated       -0.13043  1.00000"
      ]
     },
     "execution_count": 461,
     "metadata": {},
     "output_type": "execute_result"
    }
   ],
   "source": [
    "df[df.rated<100].corr()"
   ]
  },
  {
   "cell_type": "markdown",
   "id": "8cdaa126",
   "metadata": {},
   "source": [
    "#### Less than 200 reviews correlation"
   ]
  },
  {
   "cell_type": "code",
   "execution_count": 465,
   "id": "e00a85d4",
   "metadata": {},
   "outputs": [
    {
     "data": {
      "text/html": [
       "<div>\n",
       "<style scoped>\n",
       "    .dataframe tbody tr th:only-of-type {\n",
       "        vertical-align: middle;\n",
       "    }\n",
       "\n",
       "    .dataframe tbody tr th {\n",
       "        vertical-align: top;\n",
       "    }\n",
       "\n",
       "    .dataframe thead th {\n",
       "        text-align: right;\n",
       "    }\n",
       "</style>\n",
       "<table border=\"1\" class=\"dataframe\">\n",
       "  <thead>\n",
       "    <tr style=\"text-align: right;\">\n",
       "      <th></th>\n",
       "      <th>predicted</th>\n",
       "      <th>rated</th>\n",
       "    </tr>\n",
       "  </thead>\n",
       "  <tbody>\n",
       "    <tr>\n",
       "      <th>predicted</th>\n",
       "      <td>1.00000</td>\n",
       "      <td>-0.14434</td>\n",
       "    </tr>\n",
       "    <tr>\n",
       "      <th>rated</th>\n",
       "      <td>-0.14434</td>\n",
       "      <td>1.00000</td>\n",
       "    </tr>\n",
       "  </tbody>\n",
       "</table>\n",
       "</div>"
      ],
      "text/plain": [
       "           predicted    rated\n",
       "predicted    1.00000 -0.14434\n",
       "rated       -0.14434  1.00000"
      ]
     },
     "execution_count": 465,
     "metadata": {},
     "output_type": "execute_result"
    }
   ],
   "source": [
    "df[df.rated<200].corr()"
   ]
  },
  {
   "cell_type": "markdown",
   "id": "b2242258",
   "metadata": {},
   "source": [
    "#### Less than 1000 reviews correlation"
   ]
  },
  {
   "cell_type": "code",
   "execution_count": 462,
   "id": "a799e60e",
   "metadata": {},
   "outputs": [
    {
     "data": {
      "text/html": [
       "<div>\n",
       "<style scoped>\n",
       "    .dataframe tbody tr th:only-of-type {\n",
       "        vertical-align: middle;\n",
       "    }\n",
       "\n",
       "    .dataframe tbody tr th {\n",
       "        vertical-align: top;\n",
       "    }\n",
       "\n",
       "    .dataframe thead th {\n",
       "        text-align: right;\n",
       "    }\n",
       "</style>\n",
       "<table border=\"1\" class=\"dataframe\">\n",
       "  <thead>\n",
       "    <tr style=\"text-align: right;\">\n",
       "      <th></th>\n",
       "      <th>predicted</th>\n",
       "      <th>rated</th>\n",
       "    </tr>\n",
       "  </thead>\n",
       "  <tbody>\n",
       "    <tr>\n",
       "      <th>predicted</th>\n",
       "      <td>1.000000</td>\n",
       "      <td>-0.113016</td>\n",
       "    </tr>\n",
       "    <tr>\n",
       "      <th>rated</th>\n",
       "      <td>-0.113016</td>\n",
       "      <td>1.000000</td>\n",
       "    </tr>\n",
       "  </tbody>\n",
       "</table>\n",
       "</div>"
      ],
      "text/plain": [
       "           predicted     rated\n",
       "predicted   1.000000 -0.113016\n",
       "rated      -0.113016  1.000000"
      ]
     },
     "execution_count": 462,
     "metadata": {},
     "output_type": "execute_result"
    }
   ],
   "source": [
    "df[df.rated<1000].corr()"
   ]
  },
  {
   "cell_type": "markdown",
   "id": "f402b229",
   "metadata": {},
   "source": [
    "#### Collaborative Filtering\n",
    "\n",
    "*Based on ratings*"
   ]
  },
  {
   "cell_type": "code",
   "execution_count": 65,
   "id": "ed1b29d4",
   "metadata": {},
   "outputs": [],
   "source": [
    "from surprise import Reader, Dataset, SVD\n",
    "from surprise.model_selection import cross_validate"
   ]
  },
  {
   "cell_type": "code",
   "execution_count": 155,
   "id": "44b0b192",
   "metadata": {},
   "outputs": [
    {
     "data": {
      "text/html": [
       "<div>\n",
       "<style scoped>\n",
       "    .dataframe tbody tr th:only-of-type {\n",
       "        vertical-align: middle;\n",
       "    }\n",
       "\n",
       "    .dataframe tbody tr th {\n",
       "        vertical-align: top;\n",
       "    }\n",
       "\n",
       "    .dataframe thead th {\n",
       "        text-align: right;\n",
       "    }\n",
       "</style>\n",
       "<table border=\"1\" class=\"dataframe\">\n",
       "  <thead>\n",
       "    <tr style=\"text-align: right;\">\n",
       "      <th></th>\n",
       "      <th>userId</th>\n",
       "      <th>movieId</th>\n",
       "      <th>rating</th>\n",
       "      <th>timestamp</th>\n",
       "    </tr>\n",
       "  </thead>\n",
       "  <tbody>\n",
       "    <tr>\n",
       "      <th>0</th>\n",
       "      <td>1</td>\n",
       "      <td>1</td>\n",
       "      <td>4.0</td>\n",
       "      <td>964982703</td>\n",
       "    </tr>\n",
       "    <tr>\n",
       "      <th>1</th>\n",
       "      <td>1</td>\n",
       "      <td>3</td>\n",
       "      <td>4.0</td>\n",
       "      <td>964981247</td>\n",
       "    </tr>\n",
       "    <tr>\n",
       "      <th>2</th>\n",
       "      <td>1</td>\n",
       "      <td>6</td>\n",
       "      <td>4.0</td>\n",
       "      <td>964982224</td>\n",
       "    </tr>\n",
       "    <tr>\n",
       "      <th>3</th>\n",
       "      <td>1</td>\n",
       "      <td>47</td>\n",
       "      <td>5.0</td>\n",
       "      <td>964983815</td>\n",
       "    </tr>\n",
       "    <tr>\n",
       "      <th>4</th>\n",
       "      <td>1</td>\n",
       "      <td>50</td>\n",
       "      <td>5.0</td>\n",
       "      <td>964982931</td>\n",
       "    </tr>\n",
       "  </tbody>\n",
       "</table>\n",
       "</div>"
      ],
      "text/plain": [
       "   userId  movieId  rating  timestamp\n",
       "0       1        1     4.0  964982703\n",
       "1       1        3     4.0  964981247\n",
       "2       1        6     4.0  964982224\n",
       "3       1       47     5.0  964983815\n",
       "4       1       50     5.0  964982931"
      ]
     },
     "execution_count": 155,
     "metadata": {},
     "output_type": "execute_result"
    }
   ],
   "source": [
    "# Read data with surprise\n",
    "\n",
    "reader = Reader(rating_scale=(1, 5))\n",
    "ratings = pd.read_csv('../data/input/ratings0.csv')\n",
    "\n",
    "ratings.head()"
   ]
  },
  {
   "cell_type": "code",
   "execution_count": 157,
   "id": "dfb08ff3",
   "metadata": {},
   "outputs": [
    {
     "name": "stdout",
     "output_type": "stream",
     "text": [
      "Processing epoch 0\n",
      "Processing epoch 1\n",
      "Processing epoch 2\n",
      "Processing epoch 3\n",
      "Processing epoch 4\n",
      "Processing epoch 5\n",
      "Processing epoch 6\n",
      "Processing epoch 7\n",
      "Processing epoch 8\n",
      "Processing epoch 9\n",
      "Processing epoch 0\n",
      "Processing epoch 1\n",
      "Processing epoch 2\n",
      "Processing epoch 3\n",
      "Processing epoch 4\n",
      "Processing epoch 5\n",
      "Processing epoch 6\n",
      "Processing epoch 7\n",
      "Processing epoch 8\n",
      "Processing epoch 9\n",
      "Processing epoch 0\n",
      "Processing epoch 1\n",
      "Processing epoch 2\n",
      "Processing epoch 3\n",
      "Processing epoch 4\n",
      "Processing epoch 5\n",
      "Processing epoch 6\n",
      "Processing epoch 7\n",
      "Processing epoch 8\n",
      "Processing epoch 9\n",
      "Processing epoch 0\n",
      "Processing epoch 1\n",
      "Processing epoch 2\n",
      "Processing epoch 3\n",
      "Processing epoch 4\n",
      "Processing epoch 5\n",
      "Processing epoch 6\n",
      "Processing epoch 7\n",
      "Processing epoch 8\n",
      "Processing epoch 9\n",
      "Processing epoch 0\n",
      "Processing epoch 1\n",
      "Processing epoch 2\n",
      "Processing epoch 3\n",
      "Processing epoch 4\n",
      "Processing epoch 5\n",
      "Processing epoch 6\n",
      "Processing epoch 7\n",
      "Processing epoch 8\n",
      "Processing epoch 9\n",
      "Evaluating RMSE, MAE of algorithm SVD on 5 split(s).\n",
      "\n",
      "                  Fold 1  Fold 2  Fold 3  Fold 4  Fold 5  Mean    Std     \n",
      "RMSE (testset)    0.8801  0.8758  0.8840  0.8874  0.8790  0.8813  0.0040  \n",
      "MAE (testset)     0.6780  0.6745  0.6823  0.6832  0.6771  0.6790  0.0033  \n",
      "Fit time          2.17    2.11    2.13    2.12    2.20    2.15    0.04    \n",
      "Test time         0.12    0.10    0.10    0.15    0.11    0.11    0.02    \n"
     ]
    },
    {
     "data": {
      "text/plain": [
       "{'test_rmse': array([0.88008144, 0.87583202, 0.88397392, 0.88735904, 0.87903703]),\n",
       " 'test_mae': array([0.67799281, 0.67452971, 0.68233592, 0.68316091, 0.67705099]),\n",
       " 'fit_time': (2.1737120151519775,\n",
       "  2.1064093112945557,\n",
       "  2.1298768520355225,\n",
       "  2.123990774154663,\n",
       "  2.2030317783355713),\n",
       " 'test_time': (0.1150357723236084,\n",
       "  0.09830808639526367,\n",
       "  0.10447502136230469,\n",
       "  0.14500713348388672,\n",
       "  0.11126589775085449)}"
      ]
     },
     "execution_count": 157,
     "metadata": {},
     "output_type": "execute_result"
    }
   ],
   "source": [
    "# Taking only the part from linked list\n",
    "rating = ratings[ratings['movieId'].isin(links_small)]\n",
    "\n",
    "data = Dataset.load_from_df(ratings[['userId', 'movieId', 'rating']], reader)\n",
    "\n",
    "# Use the famous SVD algorithm\n",
    "svd = SVD(verbose=True, n_epochs=10)\n",
    "\n",
    "# Run 5-fold cross-validation and then print results\n",
    "cross_validate(svd, data, measures=['RMSE', 'MAE'], cv=5, verbose=True)"
   ]
  },
  {
   "cell_type": "code",
   "execution_count": 158,
   "id": "fa0812f0",
   "metadata": {},
   "outputs": [
    {
     "name": "stdout",
     "output_type": "stream",
     "text": [
      "Processing epoch 0\n",
      "Processing epoch 1\n",
      "Processing epoch 2\n",
      "Processing epoch 3\n",
      "Processing epoch 4\n",
      "Processing epoch 5\n",
      "Processing epoch 6\n",
      "Processing epoch 7\n",
      "Processing epoch 8\n",
      "Processing epoch 9\n"
     ]
    },
    {
     "data": {
      "text/plain": [
       "<surprise.prediction_algorithms.matrix_factorization.SVD at 0x7fc8c0a4a250>"
      ]
     },
     "execution_count": 158,
     "metadata": {},
     "output_type": "execute_result"
    }
   ],
   "source": [
    "# Train full data set\n",
    "\n",
    "trainset = data.build_full_trainset()\n",
    "svd.fit(trainset)"
   ]
  },
  {
   "cell_type": "code",
   "execution_count": 159,
   "id": "0c0b7c32",
   "metadata": {},
   "outputs": [
    {
     "data": {
      "text/html": [
       "<div>\n",
       "<style scoped>\n",
       "    .dataframe tbody tr th:only-of-type {\n",
       "        vertical-align: middle;\n",
       "    }\n",
       "\n",
       "    .dataframe tbody tr th {\n",
       "        vertical-align: top;\n",
       "    }\n",
       "\n",
       "    .dataframe thead th {\n",
       "        text-align: right;\n",
       "    }\n",
       "</style>\n",
       "<table border=\"1\" class=\"dataframe\">\n",
       "  <thead>\n",
       "    <tr style=\"text-align: right;\">\n",
       "      <th></th>\n",
       "      <th>userId</th>\n",
       "      <th>movieId</th>\n",
       "      <th>rating</th>\n",
       "      <th>timestamp</th>\n",
       "    </tr>\n",
       "  </thead>\n",
       "  <tbody>\n",
       "    <tr>\n",
       "      <th>4059</th>\n",
       "      <td>27</td>\n",
       "      <td>1</td>\n",
       "      <td>3.0</td>\n",
       "      <td>962685262</td>\n",
       "    </tr>\n",
       "    <tr>\n",
       "      <th>4060</th>\n",
       "      <td>27</td>\n",
       "      <td>2</td>\n",
       "      <td>4.0</td>\n",
       "      <td>962685711</td>\n",
       "    </tr>\n",
       "    <tr>\n",
       "      <th>4061</th>\n",
       "      <td>27</td>\n",
       "      <td>34</td>\n",
       "      <td>5.0</td>\n",
       "      <td>962685351</td>\n",
       "    </tr>\n",
       "    <tr>\n",
       "      <th>4062</th>\n",
       "      <td>27</td>\n",
       "      <td>48</td>\n",
       "      <td>4.0</td>\n",
       "      <td>962685318</td>\n",
       "    </tr>\n",
       "    <tr>\n",
       "      <th>4063</th>\n",
       "      <td>27</td>\n",
       "      <td>60</td>\n",
       "      <td>3.0</td>\n",
       "      <td>962685387</td>\n",
       "    </tr>\n",
       "    <tr>\n",
       "      <th>...</th>\n",
       "      <td>...</td>\n",
       "      <td>...</td>\n",
       "      <td>...</td>\n",
       "      <td>...</td>\n",
       "    </tr>\n",
       "    <tr>\n",
       "      <th>4189</th>\n",
       "      <td>27</td>\n",
       "      <td>3751</td>\n",
       "      <td>3.0</td>\n",
       "      <td>962685032</td>\n",
       "    </tr>\n",
       "    <tr>\n",
       "      <th>4190</th>\n",
       "      <td>27</td>\n",
       "      <td>3791</td>\n",
       "      <td>3.0</td>\n",
       "      <td>965149357</td>\n",
       "    </tr>\n",
       "    <tr>\n",
       "      <th>4191</th>\n",
       "      <td>27</td>\n",
       "      <td>3809</td>\n",
       "      <td>1.0</td>\n",
       "      <td>965149421</td>\n",
       "    </tr>\n",
       "    <tr>\n",
       "      <th>4192</th>\n",
       "      <td>27</td>\n",
       "      <td>3836</td>\n",
       "      <td>4.0</td>\n",
       "      <td>965149368</td>\n",
       "    </tr>\n",
       "    <tr>\n",
       "      <th>4193</th>\n",
       "      <td>27</td>\n",
       "      <td>5060</td>\n",
       "      <td>2.0</td>\n",
       "      <td>962686409</td>\n",
       "    </tr>\n",
       "  </tbody>\n",
       "</table>\n",
       "<p>135 rows × 4 columns</p>\n",
       "</div>"
      ],
      "text/plain": [
       "      userId  movieId  rating  timestamp\n",
       "4059      27        1     3.0  962685262\n",
       "4060      27        2     4.0  962685711\n",
       "4061      27       34     5.0  962685351\n",
       "4062      27       48     4.0  962685318\n",
       "4063      27       60     3.0  962685387\n",
       "...      ...      ...     ...        ...\n",
       "4189      27     3751     3.0  962685032\n",
       "4190      27     3791     3.0  965149357\n",
       "4191      27     3809     1.0  965149421\n",
       "4192      27     3836     4.0  965149368\n",
       "4193      27     5060     2.0  962686409\n",
       "\n",
       "[135 rows x 4 columns]"
      ]
     },
     "execution_count": 159,
     "metadata": {},
     "output_type": "execute_result"
    }
   ],
   "source": [
    "ratings[ratings['userId'] == 27]"
   ]
  },
  {
   "cell_type": "code",
   "execution_count": 160,
   "id": "2257d6fc",
   "metadata": {},
   "outputs": [
    {
     "data": {
      "text/plain": [
       "Prediction(uid=27, iid=3836, r_ui=None, est=4.012498891669039, details={'was_impossible': False})"
      ]
     },
     "execution_count": 160,
     "metadata": {},
     "output_type": "execute_result"
    }
   ],
   "source": [
    "svd.predict(uid = 27, iid = 3836)"
   ]
  },
  {
   "cell_type": "markdown",
   "id": "a8646807",
   "metadata": {},
   "source": [
    "#### Mixed aka Hybrid model"
   ]
  },
  {
   "cell_type": "code",
   "execution_count": 205,
   "id": "f32137dc",
   "metadata": {},
   "outputs": [],
   "source": [
    "def convert_int(x):\n",
    "    try:\n",
    "        return int(x)\n",
    "    except:\n",
    "        return np.nan\n",
    "    \n",
    "id_map = pd.read_csv('../data/input/links0.csv')[['movieId', 'tmdbId']]\n",
    "id_map['tmdbId'] = id_map['tmdbId'].apply(convert_int)\n",
    "id_map.columns = ['movieId', 'id']\n",
    "id_map = id_map.merge(smd[['title', 'id']], on='id').set_index('title')\n",
    "indices_map = id_map.set_index('id')"
   ]
  },
  {
   "cell_type": "code",
   "execution_count": 206,
   "id": "538e14bf",
   "metadata": {},
   "outputs": [],
   "source": [
    "def hybrid(userId, title):\n",
    "    '''\n",
    "    Given a user experience (user id) and title of a movie that user liked \n",
    "    It provides 10 recommendations to watch\n",
    "    '''\n",
    "    \n",
    "    idx = indices[title]\n",
    "    tmdbId = id_map.loc[title]['id']\n",
    "    #print(idx)\n",
    "    movie_id = id_map.loc[title]['movieId']\n",
    "    \n",
    "    sim_scores = list(enumerate(cosine_sim[int(idx)]))\n",
    "    sim_scores = sorted(sim_scores, key=lambda x: x[1], reverse=True)\n",
    "    sim_scores = sim_scores[1:30]\n",
    "    movie_indices = [i[0] for i in sim_scores]\n",
    "    \n",
    "    movies = smd.iloc[movie_indices][['title', 'vote_count', 'vote_average', 'year', 'id']]\n",
    "    movies['est'] = movies['id'].apply(lambda x: svd.predict(userId, indices_map.loc[x]['movieId']).est)\n",
    "    movies = movies.sort_values('est', ascending=False)\n",
    "    return movies.head(10)\n"
   ]
  },
  {
   "cell_type": "code",
   "execution_count": 207,
   "id": "00673b86",
   "metadata": {},
   "outputs": [
    {
     "data": {
      "text/html": [
       "<div>\n",
       "<style scoped>\n",
       "    .dataframe tbody tr th:only-of-type {\n",
       "        vertical-align: middle;\n",
       "    }\n",
       "\n",
       "    .dataframe tbody tr th {\n",
       "        vertical-align: top;\n",
       "    }\n",
       "\n",
       "    .dataframe thead th {\n",
       "        text-align: right;\n",
       "    }\n",
       "</style>\n",
       "<table border=\"1\" class=\"dataframe\">\n",
       "  <thead>\n",
       "    <tr style=\"text-align: right;\">\n",
       "      <th></th>\n",
       "      <th>title</th>\n",
       "      <th>vote_count</th>\n",
       "      <th>vote_average</th>\n",
       "      <th>year</th>\n",
       "      <th>id</th>\n",
       "      <th>est</th>\n",
       "    </tr>\n",
       "  </thead>\n",
       "  <tbody>\n",
       "    <tr>\n",
       "      <th>1937</th>\n",
       "      <td>The Matrix</td>\n",
       "      <td>9079.0</td>\n",
       "      <td>7.9</td>\n",
       "      <td>1999</td>\n",
       "      <td>603</td>\n",
       "      <td>4.344571</td>\n",
       "    </tr>\n",
       "    <tr>\n",
       "      <th>922</th>\n",
       "      <td>A Grand Day Out</td>\n",
       "      <td>199.0</td>\n",
       "      <td>7.4</td>\n",
       "      <td>1990</td>\n",
       "      <td>530</td>\n",
       "      <td>4.021427</td>\n",
       "    </tr>\n",
       "    <tr>\n",
       "      <th>1790</th>\n",
       "      <td>A Simple Plan</td>\n",
       "      <td>191.0</td>\n",
       "      <td>6.9</td>\n",
       "      <td>1998</td>\n",
       "      <td>10223</td>\n",
       "      <td>3.944671</td>\n",
       "    </tr>\n",
       "    <tr>\n",
       "      <th>7260</th>\n",
       "      <td>Green Zone</td>\n",
       "      <td>730.0</td>\n",
       "      <td>6.4</td>\n",
       "      <td>2010</td>\n",
       "      <td>22972</td>\n",
       "      <td>3.710775</td>\n",
       "    </tr>\n",
       "    <tr>\n",
       "      <th>5854</th>\n",
       "      <td>A Trip to the Moon</td>\n",
       "      <td>314.0</td>\n",
       "      <td>7.9</td>\n",
       "      <td>1902</td>\n",
       "      <td>775</td>\n",
       "      <td>3.630153</td>\n",
       "    </tr>\n",
       "    <tr>\n",
       "      <th>4075</th>\n",
       "      <td>Dog Soldiers</td>\n",
       "      <td>227.0</td>\n",
       "      <td>6.7</td>\n",
       "      <td>2002</td>\n",
       "      <td>11880</td>\n",
       "      <td>3.569118</td>\n",
       "    </tr>\n",
       "    <tr>\n",
       "      <th>9494</th>\n",
       "      <td>Last Year's Snow Was Falling</td>\n",
       "      <td>7.0</td>\n",
       "      <td>6.4</td>\n",
       "      <td>1983</td>\n",
       "      <td>145760</td>\n",
       "      <td>3.563983</td>\n",
       "    </tr>\n",
       "    <tr>\n",
       "      <th>7559</th>\n",
       "      <td>Hanna</td>\n",
       "      <td>1284.0</td>\n",
       "      <td>6.5</td>\n",
       "      <td>2011</td>\n",
       "      <td>50456</td>\n",
       "      <td>3.560828</td>\n",
       "    </tr>\n",
       "    <tr>\n",
       "      <th>5709</th>\n",
       "      <td>Azumi</td>\n",
       "      <td>91.0</td>\n",
       "      <td>6.5</td>\n",
       "      <td>2003</td>\n",
       "      <td>5889</td>\n",
       "      <td>3.537075</td>\n",
       "    </tr>\n",
       "    <tr>\n",
       "      <th>3135</th>\n",
       "      <td>The Dish</td>\n",
       "      <td>62.0</td>\n",
       "      <td>6.6</td>\n",
       "      <td>2000</td>\n",
       "      <td>5257</td>\n",
       "      <td>3.524798</td>\n",
       "    </tr>\n",
       "  </tbody>\n",
       "</table>\n",
       "</div>"
      ],
      "text/plain": [
       "                             title  vote_count  vote_average  year      id  \\\n",
       "1937                    The Matrix      9079.0           7.9  1999     603   \n",
       "922                A Grand Day Out       199.0           7.4  1990     530   \n",
       "1790                 A Simple Plan       191.0           6.9  1998   10223   \n",
       "7260                    Green Zone       730.0           6.4  2010   22972   \n",
       "5854            A Trip to the Moon       314.0           7.9  1902     775   \n",
       "4075                  Dog Soldiers       227.0           6.7  2002   11880   \n",
       "9494  Last Year's Snow Was Falling         7.0           6.4  1983  145760   \n",
       "7559                         Hanna      1284.0           6.5  2011   50456   \n",
       "5709                         Azumi        91.0           6.5  2003    5889   \n",
       "3135                      The Dish        62.0           6.6  2000    5257   \n",
       "\n",
       "           est  \n",
       "1937  4.344571  \n",
       "922   4.021427  \n",
       "1790  3.944671  \n",
       "7260  3.710775  \n",
       "5854  3.630153  \n",
       "4075  3.569118  \n",
       "9494  3.563983  \n",
       "7559  3.560828  \n",
       "5709  3.537075  \n",
       "3135  3.524798  "
      ]
     },
     "execution_count": 207,
     "metadata": {},
     "output_type": "execute_result"
    }
   ],
   "source": [
    "hybrid(userId = 5, title= 'Avatar')"
   ]
  }
 ],
 "metadata": {
  "kernelspec": {
   "display_name": "Python 3 (ipykernel)",
   "language": "python",
   "name": "python3"
  },
  "language_info": {
   "codemirror_mode": {
    "name": "ipython",
    "version": 3
   },
   "file_extension": ".py",
   "mimetype": "text/x-python",
   "name": "python",
   "nbconvert_exporter": "python",
   "pygments_lexer": "ipython3",
   "version": "3.8.5"
  }
 },
 "nbformat": 4,
 "nbformat_minor": 5
}
