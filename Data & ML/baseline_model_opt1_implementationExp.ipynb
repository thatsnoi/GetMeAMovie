{
 "cells": [
  {
   "cell_type": "code",
   "execution_count": 3,
   "id": "90078a55-9d2c-44e4-b1e4-c97279f14553",
   "metadata": {},
   "outputs": [],
   "source": [
    "import pandas as pd\n",
    "import numpy as np\n",
    "import itertools as it\n",
    "from scipy.spatial.distance import cosine\n",
    "from surprise import Reader, Dataset, SVD\n",
    "from scipy.stats import pearsonr\n",
    "from sklearn.model_selection import train_test_split"
   ]
  },
  {
   "cell_type": "code",
   "execution_count": null,
   "id": "20cc60d5-62f6-498a-99ab-61c9c090994b",
   "metadata": {},
   "outputs": [],
   "source": [
    "all_ratings = pd.read_csv('../data/input/ratings.csv')\n",
    "all_ratings.drop('timestamp', axis=1, inplace=True)\n",
    "all_ratings"
   ]
  },
  {
   "cell_type": "code",
   "execution_count": 151,
   "id": "ece8be62",
   "metadata": {},
   "outputs": [
    {
     "data": {
      "text/plain": [
       "(610, 9724)"
      ]
     },
     "execution_count": 151,
     "metadata": {},
     "output_type": "execute_result"
    }
   ],
   "source": [
    "all_ratings.userId.nunique(), all_ratings.movieId.nunique()"
   ]
  },
  {
   "cell_type": "code",
   "execution_count": 6,
   "id": "c7dacbf3-6f72-4ddd-bbe1-427e29fdcf03",
   "metadata": {},
   "outputs": [
    {
     "data": {
      "text/plain": [
       "((25000095, 3), 162541, 59047)"
      ]
     },
     "execution_count": 6,
     "metadata": {},
     "output_type": "execute_result"
    }
   ],
   "source": [
    "all_ratings = pd.read_csv('/Users/irenebonafonte/Downloads/data_for_model/ratings.csv')\n",
    "all_ratings.drop('rating_date', axis=1, inplace=True) \n",
    "all_ratings.shape, all_ratings.userId.nunique(), all_ratings.movieId.nunique()"
   ]
  },
  {
   "cell_type": "code",
   "execution_count": 155,
   "id": "ef2d73b2",
   "metadata": {},
   "outputs": [
    {
     "data": {
      "text/plain": [
       "<AxesSubplot:>"
      ]
     },
     "execution_count": 155,
     "metadata": {},
     "output_type": "execute_result"
    },
    {
     "data": {
      "image/png": "[encoded data removed]",
      "text/plain": [
       "<Figure size 432x288 with 1 Axes>"
      ]
     },
     "metadata": {
      "needs_background": "light"
     },
     "output_type": "display_data"
    }
   ],
   "source": [
    "all_ratings.movieId.value_counts().hist(bins=50)"
   ]
  },
  {
   "cell_type": "code",
   "execution_count": 9,
   "id": "b35bf13f-dd04-4398-95a9-7d71095cfe8a",
   "metadata": {},
   "outputs": [
    {
     "data": {
      "text/html": [
       "<div>\n",
       "<style scoped>\n",
       "    .dataframe tbody tr th:only-of-type {\n",
       "        vertical-align: middle;\n",
       "    }\n",
       "\n",
       "    .dataframe tbody tr th {\n",
       "        vertical-align: top;\n",
       "    }\n",
       "\n",
       "    .dataframe thead th {\n",
       "        text-align: right;\n",
       "    }\n",
       "</style>\n",
       "<table border=\"1\" class=\"dataframe\">\n",
       "  <thead>\n",
       "    <tr style=\"text-align: right;\">\n",
       "      <th></th>\n",
       "      <th>index</th>\n",
       "      <th>movieId</th>\n",
       "      <th>title</th>\n",
       "    </tr>\n",
       "  </thead>\n",
       "  <tbody>\n",
       "    <tr>\n",
       "      <th>0</th>\n",
       "      <td>0</td>\n",
       "      <td>1</td>\n",
       "      <td>Toy Story</td>\n",
       "    </tr>\n",
       "    <tr>\n",
       "      <th>1</th>\n",
       "      <td>1</td>\n",
       "      <td>2</td>\n",
       "      <td>Jumanji</td>\n",
       "    </tr>\n",
       "    <tr>\n",
       "      <th>2</th>\n",
       "      <td>2</td>\n",
       "      <td>3</td>\n",
       "      <td>Grumpier Old Men</td>\n",
       "    </tr>\n",
       "    <tr>\n",
       "      <th>3</th>\n",
       "      <td>3</td>\n",
       "      <td>4</td>\n",
       "      <td>Waiting to Exhale</td>\n",
       "    </tr>\n",
       "    <tr>\n",
       "      <th>4</th>\n",
       "      <td>4</td>\n",
       "      <td>5</td>\n",
       "      <td>Father of the Bride Part II</td>\n",
       "    </tr>\n",
       "    <tr>\n",
       "      <th>...</th>\n",
       "      <td>...</td>\n",
       "      <td>...</td>\n",
       "      <td>...</td>\n",
       "    </tr>\n",
       "    <tr>\n",
       "      <th>9644</th>\n",
       "      <td>9644</td>\n",
       "      <td>175569</td>\n",
       "      <td>Wind River</td>\n",
       "    </tr>\n",
       "    <tr>\n",
       "      <th>9645</th>\n",
       "      <td>9645</td>\n",
       "      <td>175585</td>\n",
       "      <td>Shot Caller</td>\n",
       "    </tr>\n",
       "    <tr>\n",
       "      <th>9646</th>\n",
       "      <td>9646</td>\n",
       "      <td>175655</td>\n",
       "      <td>Girls Trip</td>\n",
       "    </tr>\n",
       "    <tr>\n",
       "      <th>9647</th>\n",
       "      <td>9647</td>\n",
       "      <td>175659</td>\n",
       "      <td>Detroit</td>\n",
       "    </tr>\n",
       "    <tr>\n",
       "      <th>9648</th>\n",
       "      <td>9648</td>\n",
       "      <td>175667</td>\n",
       "      <td>Columbus</td>\n",
       "    </tr>\n",
       "  </tbody>\n",
       "</table>\n",
       "<p>9649 rows × 3 columns</p>\n",
       "</div>"
      ],
      "text/plain": [
       "      index  movieId                        title\n",
       "0         0        1                    Toy Story\n",
       "1         1        2                      Jumanji\n",
       "2         2        3             Grumpier Old Men\n",
       "3         3        4            Waiting to Exhale\n",
       "4         4        5  Father of the Bride Part II\n",
       "...     ...      ...                          ...\n",
       "9644   9644   175569                   Wind River\n",
       "9645   9645   175585                  Shot Caller\n",
       "9646   9646   175655                   Girls Trip\n",
       "9647   9647   175659                      Detroit\n",
       "9648   9648   175667                     Columbus\n",
       "\n",
       "[9649 rows x 3 columns]"
      ]
     },
     "execution_count": 9,
     "metadata": {},
     "output_type": "execute_result"
    }
   ],
   "source": []
  },
  {
   "cell_type": "code",
   "execution_count": 157,
   "id": "4ef943b1",
   "metadata": {},
   "outputs": [
    {
     "data": {
      "text/plain": [
       "2427"
      ]
     },
     "execution_count": 157,
     "metadata": {},
     "output_type": "execute_result"
    }
   ],
   "source": [
    "sum(all_ratings.movieId.value_counts() > 2000)"
   ]
  },
  {
   "cell_type": "code",
   "execution_count": 159,
   "id": "efa4ca8a",
   "metadata": {},
   "outputs": [
    {
     "data": {
      "text/plain": [
       "10291"
      ]
     },
     "execution_count": 159,
     "metadata": {},
     "output_type": "execute_result"
    }
   ],
   "source": [
    "sum(all_ratings.movieId.value_counts() > 100)"
   ]
  },
  {
   "cell_type": "code",
   "execution_count": 158,
   "id": "6c8a5c65",
   "metadata": {},
   "outputs": [
    {
     "data": {
      "text/plain": [
       "<AxesSubplot:>"
      ]
     },
     "execution_count": 158,
     "metadata": {},
     "output_type": "execute_result"
    },
    {
     "data": {
      "image/png": "[encoded data removed]",
      "text/plain": [
       "<Figure size 432x288 with 1 Axes>"
      ]
     },
     "metadata": {
      "needs_background": "light"
     },
     "output_type": "display_data"
    }
   ],
   "source": [
    "all_ratings.movieId.value_counts()[all_ratings.movieId.value_counts() < 2000].hist(bins=50)"
   ]
  },
  {
   "cell_type": "code",
   "execution_count": 39,
   "id": "4c99626f",
   "metadata": {},
   "outputs": [
    {
     "data": {
      "text/plain": [
       "<AxesSubplot:>"
      ]
     },
     "execution_count": 39,
     "metadata": {},
     "output_type": "execute_result"
    },
    {
     "data": {
      "image/png": "[encoded data removed]",
      "text/plain": [
       "<Figure size 432x288 with 1 Axes>"
      ]
     },
     "metadata": {
      "needs_background": "light"
     },
     "output_type": "display_data"
    }
   ],
   "source": [
    "all_ratings.movieId.value_counts()[all_ratings.movieId.value_counts() < 100].hist(bins=50)"
   ]
  },
  {
   "cell_type": "code",
   "execution_count": 37,
   "id": "9f9acfc3",
   "metadata": {},
   "outputs": [
    {
     "data": {
      "text/plain": [
       "<AxesSubplot:>"
      ]
     },
     "execution_count": 37,
     "metadata": {},
     "output_type": "execute_result"
    },
    {
     "data": {
      "image/png": "[encoded data removed]",
      "text/plain": [
       "<Figure size 432x288 with 1 Axes>"
      ]
     },
     "metadata": {
      "needs_background": "light"
     },
     "output_type": "display_data"
    }
   ],
   "source": [
    "all_ratings.movieId.value_counts()[all_ratings.movieId.value_counts() > 2000].hist(bins=50)"
   ]
  },
  {
   "cell_type": "code",
   "execution_count": 7,
   "id": "74ade46b-5fda-479d-a9b3-5b074a0abae8",
   "metadata": {},
   "outputs": [
    {
     "data": {
      "text/plain": [
       "((24439880, 3), 162540, 10291)"
      ]
     },
     "execution_count": 7,
     "metadata": {},
     "output_type": "execute_result"
    }
   ],
   "source": [
    "# Exclude movies not rated by 100 users\n",
    "#keep = all_ratings.movieId.value_counts()[all_ratings.movieId.value_counts() > 100].index.values\n",
    "#all_ratings = all_ratings.loc[all_ratings.movieId.isin(keep),:]\n"
   ]
  },
  {
   "cell_type": "code",
   "execution_count": 12,
   "id": "b73339dd-059b-46b3-8cc2-f9cf39cfea05",
   "metadata": {},
   "outputs": [
    {
     "data": {
      "text/plain": [
       "((24071520, 3), 162538, 9643)"
      ]
     },
     "execution_count": 12,
     "metadata": {},
     "output_type": "execute_result"
    }
   ],
   "source": [
    "content_ids = pd.read_csv('../data/input/contentBased_index.txt')\n",
    "all_ratings = all_ratings[all_ratings.movieId.isin(content_ids.movieId.values)]\n",
    "all_ratings.shape, all_ratings.userId.nunique(), all_ratings.movieId.nunique()"
   ]
  },
  {
   "cell_type": "code",
   "execution_count": 13,
   "id": "8ee8fb4b-f36f-4329-a8dc-6af7369f792b",
   "metadata": {},
   "outputs": [],
   "source": [
    "class CollaborativeFiltering:\n",
    "    def __init__(self, DataFrame, sim_method='CosineSim', scale_rate=True, balance_ncommon=True, N='all'):\n",
    "        \"\"\" Constructor \"\"\"\n",
    "        \n",
    "        if sim_method == 'CosineSim':\n",
    "            self.sim_method=cosine\n",
    "            \n",
    "        elif sim_method == 'SVDsim':\n",
    "            self.sim_method='svd_similarity'\n",
    "            \n",
    "        elif sim_method == 'pearsonCor':\n",
    "            self.sim_method=pearsonr\n",
    "            \n",
    "        self.df=DataFrame\n",
    "        self.sim = {}\n",
    "        self.scale_rate = scale_rate\n",
    "        self.balance_ncommon = balance_ncommon\n",
    "        \n",
    "        # Select the number of similar items to be taken into account when\n",
    "        # predicting ratings. By default, all items are used.        \n",
    "        self.N = N\n",
    "        \n",
    "        return\n",
    "            \n",
    "    def similarity(self, items):\n",
    "        # Find users that have rated both items\n",
    "        users = np.intersect1d(self.df_np[self.df_np[:,1] == items[0],0], \n",
    "                               self.df_np[self.df_np[:,1] == items[1],0])\n",
    "\n",
    "        if len(users) >= self.min_common:\n",
    "            user_bools = np.isin(self.df_np[:,0], users, assume_unique=False)\n",
    "\n",
    "            # Compute similarity\n",
    "            sim = self.sim_method(self.df_np[(user_bools & (self.df_np[:,1] == items[0])),2],\n",
    "                                  self.df_np[(user_bools & (self.df_np[:,1] == items[1])),2])\n",
    "            \n",
    "            if self.sim_method == cosine:\n",
    "                 sim = 1 - sim\n",
    "                    \n",
    "            elif self.sim_method == pearsonr:\n",
    "                sim = sim[0]\n",
    "\n",
    "            # Balance the similarity score by considering the number of users taken into account\n",
    "            if self.balance_ncommon:\n",
    "                sim = sim * min(50,len(users))/50\n",
    "            \n",
    "            # we do not want negative similarities (would result in negative ratings)\n",
    "            if sim <= 0:\n",
    "                sim = np.nan\n",
    "            \n",
    "        else:\n",
    "            sim = np.nan\n",
    "            \n",
    "        return sim \n",
    "    \n",
    "    def svd_similarity(self):  \n",
    "        reader = Reader(rating_scale=(0, 5))\n",
    "        trainset = Dataset.load_from_df(self.df, reader)\n",
    "        trainset = trainset.build_full_trainset()\n",
    "        svd = SVD(verbose=True, biased=False, n_epochs=20)\n",
    "        svd.fit(trainset)\n",
    "        latent_factors = svd.qi\n",
    "        self.sim_mat = np.corrcoef(latent_factors)\n",
    "        \n",
    "        # Sort IDs\n",
    "        order = np.argsort(self.allItems)\n",
    "        self.sim_mat = self.sim_mat[order,:]\n",
    "        self.sim_mat = self.sim_mat[:,order]\n",
    "        self.allItems_sorted = self.allItems[order]\n",
    "        \n",
    "        return\n",
    "        \n",
    "    def fit(self, min_common=2):        \n",
    "        \"\"\" Prepare data structures for estimation. Similarity matrix for items \"\"\"\n",
    "        \n",
    "        # Minimum of common users required for the similarity to be computed\n",
    "        self.min_common = min_common \n",
    "        self.allItems=self.df['movieId'].unique()\n",
    "        \n",
    "        if self.sim_method == 'svd_similarity':\n",
    "            self.df_np = self.df.to_numpy()\n",
    "            self.svd_similarity()\n",
    "            \n",
    "            return\n",
    "\n",
    "        if self.scale_rate:\n",
    "            # For the computation of the adjusted cosine similarity\n",
    "            # we substract the user mean rating from the film ratings \n",
    "            # so that it does not influence the calculation of similarities.\n",
    "\n",
    "            means = self.df.groupby('userId')[['rating']].mean()\n",
    "            self.df['userMean'] = means.loc[self.df['userId']].values\n",
    "            self.df['scaledRating'] = self.df['rating'] - self.df['userMean']\n",
    "            self.df.drop('userMean', axis=1, inplace=True)\n",
    "            # Position similarity metric in third column\n",
    "            self.df = self.df[['userId','movieId','scaledRating','rating']] \n",
    "        \n",
    "        self.df_np = self.df.to_numpy()\n",
    "        self.sim_mat = np.array(list(it.combinations(self.allItems,2)))\n",
    "        self.sim_mat = np.concatenate((self.sim_mat, np.empty((self.sim_mat.shape[0],1))), axis=1)\n",
    "\n",
    "        self.sim_mat[:,2] = np.apply_along_axis(self.similarity, axis=1, arr=self.sim_mat[:,0:2])\n",
    "        self.sim_mat = self.sim_mat[~np.isnan(self.sim_mat[:,2]),:]\n",
    "        \n",
    "        # Back to normal column order\n",
    "        if self.scale_rate:\n",
    "            self.df = self.df.drop(['scaledRating'], axis=1)\n",
    "            self.df_np = self.df.to_numpy()\n",
    "            \n",
    "        return\n",
    "    \n",
    "    def svd_predict(self, user_id, movie_id, user_ratings):\n",
    "        # Get similarity between movie to predict (row) and rated movies (columns)\n",
    "        movie_sim = self.sim_mat[(self.allItems_sorted == movie_id), np.isin(self.allItems_sorted,user_ratings[:,0])].copy() \n",
    "        rating = np.sum((user_ratings[:,1] * movie_sim)) / np.sum(movie_sim)\n",
    "        \n",
    "        return min(rating, 5)\n",
    "        \n",
    "    def predict(self, user_id, movie_id):\n",
    "        # user_u ratings\n",
    "        user_ratings = self.df_np[self.df_np[:,0] == user_id,1:3]\n",
    "        user_ratings = user_ratings[np.argsort(user_ratings[:,0]), :] # sort by movie_id\n",
    "        \n",
    "        if self.sim_method == 'svd_similarity':\n",
    "            rating = self.svd_predict(user_id, movie_id, user_ratings)\n",
    "            return rating\n",
    "\n",
    "        # movie_i similarities\n",
    "        movie_sim = self.sim_mat[(self.sim_mat[:,0] == movie_id) | (self.sim_mat[:,1] == movie_id), :]\n",
    "        # put movie_j in first column and remove second column\n",
    "        movie_sim[movie_sim[:,1] == movie_id,1] = movie_sim[movie_sim[:,1] == movie_id,0]\n",
    "        \n",
    "        # Select top N most similar items to do the prediction\n",
    "        if self.N != 'all':\n",
    "            N = min(movie_sim.shape[0], self.N)\n",
    "            movie_sim = movie_sim[np.argsort(-movie_sim[:,2]), ] # sort by similarity\n",
    "            movie_sim = movie_sim[0:N, :] # Keep top N\n",
    "            \n",
    "        movie_sim = movie_sim[np.argsort(movie_sim[:,1]), 1:3] # sort by movie_id\n",
    "\n",
    "        # subset to movies with user_u rating and similarity to movie_i\n",
    "        to_weight = np.intersect1d(user_ratings[:,0], movie_sim[:,0])\n",
    "        if len(to_weight) > 0:\n",
    "            user_ratings = user_ratings[np.isin(user_ratings[:,0], to_weight),:]\n",
    "            movie_sim = movie_sim[np.isin(movie_sim[:,0], to_weight),:]\n",
    "\n",
    "            rating = np.sum((user_ratings[:,1] * movie_sim[:,1])) / np.sum(movie_sim[:,1])\n",
    "            \n",
    "        else:\n",
    "            return np.mean(user_ratings[:,1]) # Assign user mean\n",
    "\n",
    "        return min(rating, 5) # Limit to 5\n",
    "\n",
    "    def rmse_evaluate(self, data_test):\n",
    "        \"\"\" RMSE-based predictive performance evaluation. \"\"\"\n",
    "        \n",
    "        # Exclude from testing users for which we do not have any ratings\n",
    "        data_test = data_test.loc[data_test.userId.isin(self.df.userId.unique()),:]\n",
    "        print('Evaluating performance with n='+str(data_test.userId.nunique())+' users.')\n",
    "        \n",
    "        to_estimate = data_test[['userId','movieId']].to_numpy()\n",
    "        y = data_test[['rating']].values\n",
    "        \n",
    "        # Predict rating for each user-movie pair\n",
    "        y_hat = np.apply_along_axis(lambda x: self.predict(x[0], x[1]), axis=1, arr=to_estimate)\n",
    "        \n",
    "        rmse = np.sqrt(np.mean(np.power(y_hat - y, 2)))\n",
    "        return rmse\n",
    "    \n",
    "                "
   ]
  },
  {
   "cell_type": "code",
   "execution_count": 14,
   "id": "4d78b282-aa39-4c82-9bfb-563c469b62b3",
   "metadata": {},
   "outputs": [],
   "source": [
    "# Define training and testing sets\n",
    "np.random.RandomState(seed=32)\n",
    "\n",
    "def assign_to_set(df):\n",
    "    sampled_ids = np.random.choice(df.index,\n",
    "                                   size=np.int64(np.ceil(df.index.size * 0.5)),\n",
    "                                   replace=False)\n",
    "    df.loc[sampled_ids, 'for_testing'] = True\n",
    "    return df\n",
    "\n",
    "def prepare_dataset(ratings):\n",
    "    # Smaller dataset for the development stage\n",
    "    # Select movies with more ratings\n",
    "    allItems = ratings.movieId.value_counts().index.values\n",
    "    ratings = ratings.loc[ratings.movieId.isin(allItems), :].copy()\n",
    "    ratings.loc[:,'for_testing'] = False\n",
    "\n",
    "    # Save 20% of films seen by each user for testing\n",
    "    # grouped = ratings.groupby('userId', group_keys=False).apply(assign_to_set) \n",
    "    # ratings_train = ratings[grouped.for_testing == False]\n",
    "    # ratings_test = ratings[grouped.for_testing == True]\n",
    "\n",
    "    # ratings_train.drop('for_testing', axis=1, inplace=True)\n",
    "    # ratings_test.drop('for_testing', axis=1, inplace=True)\n",
    "\n",
    "    # Simulate real situation\n",
    "    # Pick new users that have rated 30-40 films for testing\n",
    "    # 20 of them will be used to fit the model (initial ratings)\n",
    "    # the rest for testing\n",
    "    # Select users for testing\n",
    "    testUsers = ratings.userId.value_counts()\n",
    "    testUsers = testUsers[(testUsers > 30) & (testUsers < 40)].index.values[0:1000]\n",
    "    ratings_test = ratings[ratings.userId.isin(testUsers)]\n",
    "    ratings_train = ratings[~ratings.userId.isin(testUsers)] # Exclude from training\n",
    "\n",
    "    # Assign half of the items for these users for training and the rest for testing\n",
    "    ratings_test = ratings_test.groupby('userId', group_keys=False).apply(assign_to_set) \n",
    "    # Add user-test training items to train\n",
    "    ratings_train_newU = ratings_train\n",
    "    ratings_train = pd.concat([ratings_train, ratings_test[ratings_test.for_testing == False]]) \n",
    "    ratings_test = ratings_test[ratings_test.for_testing == True]\n",
    "\n",
    "    ratings_train.drop('for_testing', axis=1, inplace=True)\n",
    "    ratings_test.drop('for_testing', axis=1, inplace=True)\n",
    "    ratings_train_newU.drop('for_testing', axis=1, inplace=True)\n",
    "\n",
    "\n",
    "    print(ratings_train_newU.shape)\n",
    "    print(ratings_train.shape)\n",
    "    print(ratings_test.shape)\n",
    "\n",
    "    print('Users train:', ratings_train.userId.nunique() )\n",
    "    print('Films train:', ratings_train.movieId.nunique() )\n",
    "    print('Users test:', ratings_test.userId.nunique() )\n",
    "    print('Films test:', ratings_test.movieId.nunique() )\n",
    "    \n",
    "    return (ratings_train_newU, ratings_train, ratings_test)"
   ]
  },
  {
   "cell_type": "markdown",
   "id": "fa2231c4",
   "metadata": {},
   "source": [
    "Now we try different options for the implemented algorithm to see what works best:\n",
    "* Omit user scaling\n",
    "* Use pearson correlation\n",
    "* Use top k most similar items\n",
    "* Different options for similarity weight\n",
    "* Look for which users/items does it work best and worse (next sprint)\n",
    "* Matrix factorization to compute item similarities (next sprint)"
   ]
  },
  {
   "cell_type": "code",
   "execution_count": 129,
   "id": "6babadd4",
   "metadata": {},
   "outputs": [
    {
     "name": "stderr",
     "output_type": "stream",
     "text": [
      "/Users/irenebonafonte/opt/anaconda3/lib/python3.8/site-packages/pandas/core/frame.py:4308: SettingWithCopyWarning: \n",
      "A value is trying to be set on a copy of a slice from a DataFrame\n",
      "\n",
      "See the caveats in the documentation: https://pandas.pydata.org/pandas-docs/stable/user_guide/indexing.html#returning-a-view-versus-a-copy\n",
      "  return super().drop(\n"
     ]
    },
    {
     "name": "stdout",
     "output_type": "stream",
     "text": [
      "(23132, 3)\n",
      "(24430, 3)\n",
      "(1334, 3)\n",
      "Users train: 601\n",
      "Films train: 200\n",
      "Users test: 75\n",
      "Films test: 197\n",
      "Evaluating performance with n=75 users.\n"
     ]
    },
    {
     "data": {
      "text/plain": [
       "1.1946649424499654"
      ]
     },
     "execution_count": 129,
     "metadata": {},
     "output_type": "execute_result"
    }
   ],
   "source": [
    "ratings_train_newU, ratings_train, ratings_test = prepare_dataset(ratings)\n",
    "recomend = CollaborativeFiltering(ratings_train, scale_rate=True, sim_method='CosineSim', N='all')\n",
    "recomend.fit(min_common=2)\n",
    "recomend.rmse_evaluate(ratings_test)"
   ]
  },
  {
   "cell_type": "code",
   "execution_count": 130,
   "id": "75f89be1",
   "metadata": {},
   "outputs": [
    {
     "name": "stderr",
     "output_type": "stream",
     "text": [
      "/Users/irenebonafonte/opt/anaconda3/lib/python3.8/site-packages/pandas/core/frame.py:4308: SettingWithCopyWarning: \n",
      "A value is trying to be set on a copy of a slice from a DataFrame\n",
      "\n",
      "See the caveats in the documentation: https://pandas.pydata.org/pandas-docs/stable/user_guide/indexing.html#returning-a-view-versus-a-copy\n",
      "  return super().drop(\n"
     ]
    },
    {
     "name": "stdout",
     "output_type": "stream",
     "text": [
      "(23132, 3)\n",
      "(24430, 3)\n",
      "(1334, 3)\n",
      "Users train: 601\n",
      "Films train: 200\n",
      "Users test: 75\n",
      "Films test: 197\n",
      "Evaluating performance with n=75 users.\n"
     ]
    },
    {
     "data": {
      "text/plain": [
       "1.0956115174283216"
      ]
     },
     "execution_count": 130,
     "metadata": {},
     "output_type": "execute_result"
    }
   ],
   "source": [
    "ratings_train_newU, ratings_train, ratings_test = prepare_dataset(ratings)\n",
    "recomend = CollaborativeFiltering(ratings_train, scale_rate=False, sim_method='CosineSim', N='all')\n",
    "recomend.fit(min_common=2)\n",
    "recomend.rmse_evaluate(ratings_test)"
   ]
  },
  {
   "cell_type": "code",
   "execution_count": 131,
   "id": "78895aee",
   "metadata": {},
   "outputs": [
    {
     "name": "stderr",
     "output_type": "stream",
     "text": [
      "/Users/irenebonafonte/opt/anaconda3/lib/python3.8/site-packages/pandas/core/frame.py:4308: SettingWithCopyWarning: \n",
      "A value is trying to be set on a copy of a slice from a DataFrame\n",
      "\n",
      "See the caveats in the documentation: https://pandas.pydata.org/pandas-docs/stable/user_guide/indexing.html#returning-a-view-versus-a-copy\n",
      "  return super().drop(\n"
     ]
    },
    {
     "name": "stdout",
     "output_type": "stream",
     "text": [
      "(23132, 3)\n",
      "(24430, 3)\n",
      "(1334, 3)\n",
      "Users train: 601\n",
      "Films train: 200\n",
      "Users test: 75\n",
      "Films test: 199\n",
      "Evaluating performance with n=75 users.\n"
     ]
    },
    {
     "data": {
      "text/plain": [
       "1.1245542165598177"
      ]
     },
     "execution_count": 131,
     "metadata": {},
     "output_type": "execute_result"
    }
   ],
   "source": [
    "ratings_train_newU, ratings_train, ratings_test = prepare_dataset(ratings)\n",
    "recomend = CollaborativeFiltering(ratings_train, scale_rate=False, sim_method='CosineSim', N='all')\n",
    "recomend.fit(min_common=5)\n",
    "recomend.rmse_evaluate(ratings_test)"
   ]
  },
  {
   "cell_type": "code",
   "execution_count": 139,
   "id": "f1f2a481",
   "metadata": {},
   "outputs": [
    {
     "name": "stderr",
     "output_type": "stream",
     "text": [
      "/Users/irenebonafonte/opt/anaconda3/lib/python3.8/site-packages/pandas/core/frame.py:4308: SettingWithCopyWarning: \n",
      "A value is trying to be set on a copy of a slice from a DataFrame\n",
      "\n",
      "See the caveats in the documentation: https://pandas.pydata.org/pandas-docs/stable/user_guide/indexing.html#returning-a-view-versus-a-copy\n",
      "  return super().drop(\n"
     ]
    },
    {
     "name": "stdout",
     "output_type": "stream",
     "text": [
      "(23132, 3)\n",
      "(24430, 3)\n",
      "(1334, 3)\n",
      "Users train: 601\n",
      "Films train: 200\n",
      "Users test: 75\n",
      "Films test: 192\n",
      "Evaluating performance with n=75 users.\n"
     ]
    },
    {
     "data": {
      "text/plain": [
       "1.1584257292441684"
      ]
     },
     "execution_count": 139,
     "metadata": {},
     "output_type": "execute_result"
    }
   ],
   "source": [
    "ratings_train_newU, ratings_train, ratings_test = prepare_dataset(ratings)\n",
    "recomend = CollaborativeFiltering(ratings_train, scale_rate=False, sim_method='CosineSim', N=50)\n",
    "recomend.fit(min_common=2)\n",
    "recomend.rmse_evaluate(ratings_test)"
   ]
  },
  {
   "cell_type": "code",
   "execution_count": 140,
   "id": "9be28825",
   "metadata": {},
   "outputs": [
    {
     "name": "stderr",
     "output_type": "stream",
     "text": [
      "/Users/irenebonafonte/opt/anaconda3/lib/python3.8/site-packages/pandas/core/frame.py:4308: SettingWithCopyWarning: \n",
      "A value is trying to be set on a copy of a slice from a DataFrame\n",
      "\n",
      "See the caveats in the documentation: https://pandas.pydata.org/pandas-docs/stable/user_guide/indexing.html#returning-a-view-versus-a-copy\n",
      "  return super().drop(\n"
     ]
    },
    {
     "name": "stdout",
     "output_type": "stream",
     "text": [
      "(23132, 3)\n",
      "(24430, 3)\n",
      "(1334, 3)\n",
      "Users train: 601\n",
      "Films train: 200\n",
      "Users test: 75\n",
      "Films test: 191\n",
      "Evaluating performance with n=75 users.\n"
     ]
    },
    {
     "data": {
      "text/plain": [
       "1.1065834881839969"
      ]
     },
     "execution_count": 140,
     "metadata": {},
     "output_type": "execute_result"
    }
   ],
   "source": [
    "ratings_train_newU, ratings_train, ratings_test = prepare_dataset(ratings)\n",
    "recomend = CollaborativeFiltering(ratings_train, scale_rate=False, sim_method='CosineSim', N='all', balance_ncommon=False)\n",
    "recomend.fit(min_common=2)\n",
    "recomend.rmse_evaluate(ratings_test)"
   ]
  },
  {
   "cell_type": "code",
   "execution_count": 141,
   "id": "5d2b2a0b",
   "metadata": {},
   "outputs": [
    {
     "name": "stderr",
     "output_type": "stream",
     "text": [
      "/Users/irenebonafonte/opt/anaconda3/lib/python3.8/site-packages/pandas/core/frame.py:4308: SettingWithCopyWarning: \n",
      "A value is trying to be set on a copy of a slice from a DataFrame\n",
      "\n",
      "See the caveats in the documentation: https://pandas.pydata.org/pandas-docs/stable/user_guide/indexing.html#returning-a-view-versus-a-copy\n",
      "  return super().drop(\n"
     ]
    },
    {
     "name": "stdout",
     "output_type": "stream",
     "text": [
      "(23132, 3)\n",
      "(24430, 3)\n",
      "(1334, 3)\n",
      "Users train: 601\n",
      "Films train: 200\n",
      "Users test: 75\n",
      "Films test: 195\n",
      "Evaluating performance with n=75 users.\n"
     ]
    },
    {
     "data": {
      "text/plain": [
       "1.116555270524407"
      ]
     },
     "execution_count": 141,
     "metadata": {},
     "output_type": "execute_result"
    }
   ],
   "source": [
    "ratings_train_newU, ratings_train, ratings_test = prepare_dataset(ratings)\n",
    "recomend = CollaborativeFiltering(ratings_train, scale_rate=False, sim_method='pearsonCor', N='all', balance_ncommon=False)\n",
    "recomend.fit(min_common=2)\n",
    "recomend.rmse_evaluate(ratings_test)"
   ]
  },
  {
   "cell_type": "code",
   "execution_count": null,
   "id": "4e6a366c-324a-42e4-97ef-0f13da3ac1b2",
   "metadata": {},
   "outputs": [
    {
     "name": "stderr",
     "output_type": "stream",
     "text": [
      "/Users/irenebonafonte/opt/anaconda3/lib/python3.8/site-packages/pandas/core/frame.py:4308: SettingWithCopyWarning: \n",
      "A value is trying to be set on a copy of a slice from a DataFrame\n",
      "\n",
      "See the caveats in the documentation: https://pandas.pydata.org/pandas-docs/stable/user_guide/indexing.html#returning-a-view-versus-a-copy\n",
      "  return super().drop(\n"
     ]
    },
    {
     "name": "stdout",
     "output_type": "stream",
     "text": [
      "(24032520, 3)\n",
      "(24051520, 3)\n",
      "(20000, 3)\n",
      "Users train: 162538\n",
      "Films train: 9643\n",
      "Users test: 1000\n",
      "Films test: 3215\n",
      "Processing epoch 0\n",
      "Processing epoch 1\n",
      "Processing epoch 2\n",
      "Processing epoch 3\n",
      "Processing epoch 4\n",
      "Processing epoch 5\n",
      "Processing epoch 6\n",
      "Processing epoch 7\n",
      "Processing epoch 8\n",
      "Processing epoch 9\n",
      "Processing epoch 10\n",
      "Processing epoch 11\n",
      "Processing epoch 12\n",
      "Processing epoch 13\n",
      "Processing epoch 14\n",
      "Processing epoch 15\n",
      "Processing epoch 16\n",
      "Processing epoch 17\n",
      "Processing epoch 18\n",
      "Processing epoch 19\n"
     ]
    }
   ],
   "source": [
    "ratings_train_newU, ratings_train, ratings_test = prepare_dataset(all_ratings)\n",
    "recomend = CollaborativeFiltering(ratings_train, sim_method='SVDsim')\n",
    "recomend.fit()\n",
    "# recomend.rmse_evaluate(ratings_test)"
   ]
  },
  {
   "cell_type": "markdown",
   "id": "1227b6a6",
   "metadata": {},
   "source": [
    "The best option we have got so far is to use the un-adjusted cosine similarity metric, using all items (not only the most similar ones), without scaling for differences in ratings among users and without giving greater importance to items that have many user ratings in common."
   ]
  },
  {
   "cell_type": "code",
   "execution_count": null,
   "id": "2f025425-7cb3-4fc1-b4ff-d1ab7044c6cd",
   "metadata": {},
   "outputs": [],
   "source": [
    "similarity = recommend.sim_mat\n",
    "allItems = recommend.allItems_sorted"
   ]
  },
  {
   "cell_type": "code",
   "execution_count": null,
   "id": "b6c01274-cad8-402b-8158-10d68bb93d39",
   "metadata": {},
   "outputs": [],
   "source": [
    "import pandas as pd\n",
    "import json\n",
    "\n",
    "# Read configuration file\n",
    "with open('config_prod.json', 'r') as fp:\n",
    "    config = json.load(fp)\n",
    "print(config)"
   ]
  },
  {
   "cell_type": "code",
   "execution_count": null,
   "id": "a7293869-7e02-489d-b522-6f0991d7f80c",
   "metadata": {},
   "outputs": [],
   "source": [
    "# Trying an incremental CF model\n",
    "# import torch\n",
    "# import cf-step\n",
    "\n",
    "net = SimpleCF(ratings_train_newU.userId.nunique, \n",
    "               ratings_train_newU.movieId.nunique, \n",
    "               factors=128, mean=0., std=.1)\n",
    "objective = lambda pred, targ: targ - pred\n",
    "optimizer = SGD(net.parameters(), lr=0.06)\n",
    "device = 'cuda' if torch.cuda.is_available() else 'cpu'\n",
    "model = Step(net, objective, optimizer, device=device)\n",
    "\n",
    "data_set = TensorDataset(torch.tensor(ratings_train_newU[['userId','movieId']].values), \n",
    "                         torch.tensor(bootstrapping_data['rating'].values))\n",
    "\n",
    "# local\n",
    "data_loader = DataLoader(data_set, batch_size=1, shuffle=False)\n",
    "\n",
    "model.batch_fit(data_loader)"
   ]
  }
 ],
 "metadata": {
  "kernelspec": {
   "display_name": "Python 3",
   "language": "python",
   "name": "python3"
  },
  "language_info": {
   "codemirror_mode": {
    "name": "ipython",
    "version": 3
   },
   "file_extension": ".py",
   "mimetype": "text/x-python",
   "name": "python",
   "nbconvert_exporter": "python",
   "pygments_lexer": "ipython3",
   "version": "3.8.8"
  }
 },
 "nbformat": 4,
 "nbformat_minor": 5
}
